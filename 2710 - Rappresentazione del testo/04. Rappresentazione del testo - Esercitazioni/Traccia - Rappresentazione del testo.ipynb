{
 "cells": [
  {
   "cell_type": "markdown",
   "id": "e3568019-db93-42be-be8f-ed4c8295b937",
   "metadata": {},
   "source": [
    "# 💥 Laboratorio — Rappresentazione testuale (BoW, TF-IDF, N-GRAMS)\n",
    "\n",
    "## 🎯 Obiettivo\n",
    "Esplorare e confrontare diverse tecniche di rappresentazione del testo per modelli NLP, osservando come cambiano:\n",
    "- la dimensione del vocabolario\n",
    "- il peso delle parole\n",
    "- la similarità tra documenti\n",
    "\n",
    "Tutti i gruppi useranno **lo stesso corpus di testi**:\n"
   ]
  },
  {
   "cell_type": "code",
   "execution_count": 8,
   "id": "e05d7e38-bc84-46cb-8b61-9e42103dd7a6",
   "metadata": {},
   "outputs": [],
   "source": [
    "corpus = [\n",
    "    \"Il ristorante era fantastico, il servizio veloce e il cibo ottimo!\",\n",
    "    \"Il servizio era lento, ma il cibo era buono.\",\n",
    "    \"Non mi è piaciuto il film, la trama era prevedibile.\",\n",
    "    \"Film emozionante e ben recitato — lo consiglio!\",\n",
    "    \"Ho comprato questo prodotto, ma si è rotto dopo due giorni.\",\n",
    "    \"Prodotto eccellente, rapporto qualità-prezzo incredibile.\",\n",
    "    \"Il viaggio è stato stancante: ritardi, bagagli persi e caos.\",\n",
    "    \"Che bella esperienza di viaggio, tutto perfetto e organizzato.\",\n",
    "    \"La qualità del suono è buona, ma le cuffie sono scomode.\",\n",
    "    \"Cuffie comode e suono cristallino; molto soddisfatto.\",\n",
    "    \"Non ho trovato l'interfaccia intuitiva: difficile da usare.\",\n",
    "    \"Interfaccia chiara e molto user-friendly, ottima per principianti.\"\n",
    "]"
   ]
  },
  {
   "cell_type": "markdown",
   "id": "caa5ae88-f0e1-4bbd-963a-1cad4339ca76",
   "metadata": {},
   "source": [
    "\n",
    "---\n",
    "\n",
    "## 👥 Divisione dei gruppi e compiti\n",
    "\n",
    "| Gruppo | Tecnica di rappresentazione | Numero di n-grams |\n",
    "|:------:|:-------:|:-----------:|\n",
    "| 🧩 **Gruppo 1** | **Bag of Words** | Unigrams |\n",
    "| ⚙️ **Gruppo 2** | **TF-IDF** | Unigrams |\n",
    "| 🔗 **Gruppo 3** | **BoW** | Bigrams |\n",
    "| 💡 **Gruppo 4** | **TF-IDF** | Bigrams |\n",
    "\n",
    "---\n",
    "\n",
    "## 🧰 Fase 1 — Pre-elaborazione\n",
    "\n",
    "1. Applicare una pipeline completa di pre-elaborazione:  \n",
    "   - normalizzazione (lowercasing, rimozione punteggiatura, ...)  \n",
    "   - tokenizzazione\n",
    "   - stemming/lemming  \n",
    "   - rimozione *stopwords*\n",
    "2. Visualizzare i token ottenuti per ogni testo del corpus\n",
    "\n",
    "---\n",
    "\n",
    "## 🔍 Fase 2 — Rappresentazione\n",
    "- Generare e visualizzare il vocabolario (cambierà in base al numero di n-grams assegnati al gruppo: unigrams oppure bigrams)\n",
    "- Generare e visualizzare la matrice in base alla tecnica assegnata al gruppo (BoW/TF-IDF) \n",
    "- Visualizzare i **top 10 token o bigrammi** più frequenti / più pesanti\n",
    "\n",
    "---\n",
    "\n",
    "## 📊 Fase 3 — Extra: calcolare la similarità del coseno\n",
    "\n",
    "Ogni gruppo deve calcolare la **similarità coseno** tra almeno i testi del corpus  \n",
    "\n",
    "---\n",
    "\n",
    "## 🧠 Fase 4 — Discussione finale\n",
    "Ogni gruppo presenta in 3-4 minuti:\n",
    "- la propria pipeline  \n",
    "- le osservazioni principali\n",
    "\n",
    "**Domande guida per la discussione collettiva:**  \n",
    "- Che tipo di parole dominano la rappresentazione?\n",
    "- Cosa succede alla dimensione del vocabolario passando da unigrammi a bigrammi? \n",
    "- Ci sono parole comuni a tutti i documenti o specifiche di alcuni?\n",
    "- I bigrammi aggiungono significato o solo rumore?  \n",
    "- TF-IDF penalizza correttamente le parole troppo frequenti?  \n",
    "- Quale rappresentazione sembra più utile per questo corpus?\n",
    "- Se doveste migliorare le rappresentazioni di un altro gruppo, cosa aggiungereste? *(lemmatizzazione, filtraggio frequenze, embeddings…)*  "
   ]
  },
  {
   "cell_type": "code",
   "execution_count": null,
   "id": "b63a878c-d344-403c-9fab-636b362a3a71",
   "metadata": {},
   "outputs": [],
   "source": []
  }
 ],
 "metadata": {
  "kernelspec": {
   "display_name": "Python 3 (ipykernel)",
   "language": "python",
   "name": "python3"
  },
  "language_info": {
   "codemirror_mode": {
    "name": "ipython",
    "version": 3
   },
   "file_extension": ".py",
   "mimetype": "text/x-python",
   "name": "python",
   "nbconvert_exporter": "python",
   "pygments_lexer": "ipython3",
   "version": "3.11.9"
  }
 },
 "nbformat": 4,
 "nbformat_minor": 5
}
