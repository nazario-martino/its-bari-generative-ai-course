{
 "cells": [
  {
   "cell_type": "code",
   "execution_count": 1,
   "id": "23b92475-4fc3-416d-ad7c-c4babd7ca937",
   "metadata": {},
   "outputs": [
    {
     "name": "stdout",
     "output_type": "stream",
     "text": [
      "[==================================================] 100.0% 1662.8/1662.8MB downloaded\n",
      "Le parole più simili a 'king':\n",
      "- kings: 0.7138\n",
      "- queen: 0.6511\n",
      "- monarch: 0.6413\n",
      "- crown_prince: 0.6204\n",
      "- prince: 0.6160\n",
      "- sultan: 0.5865\n",
      "- ruler: 0.5798\n",
      "- princes: 0.5647\n",
      "- Prince_Paras: 0.5433\n",
      "- throne: 0.5422\n",
      "\n",
      "Operazione aritmetica con le parole (king - man + woman):\n",
      "Risultato: queen\n",
      "\n",
      "Similarità tra 'king' e 'queen': 0.6511\n",
      "\n",
      "La parola 'apple' è nel vocabolario.\n",
      "\n",
      "Vettore della parola 'king':\n",
      "[ 0.12597656  0.02978516  0.00860596  0.13964844 -0.02563477 -0.03613281\n",
      "  0.11181641 -0.19824219  0.05126953  0.36328125]...\n"
     ]
    }
   ],
   "source": [
    "import gensim.downloader as api\n",
    "\n",
    "# Carica un modello preaddestrato di Word2Vec\n",
    "model = api.load(\"word2vec-google-news-300\")  # Questo è un modello preaddestrato di Google News\n",
    "\n",
    "# 1. Trova le parole più simili a una parola\n",
    "word = 'king'\n",
    "similar_words = model.most_similar(word, topn=10)\n",
    "print(f\"Le parole più simili a '{word}':\")\n",
    "for similar_word, similarity in similar_words:\n",
    "    print(f\"- {similar_word}: {similarity:.4f}\")\n",
    "\n",
    "# 2. Operazioni aritmetiche con le parole (es. \"Re\" - \"Uomo\" + \"Donna\" = \"Regina\")\n",
    "analogy = model.most_similar(positive=['king', 'woman'], negative=['man'], topn=1)\n",
    "print(\"\\nOperazione aritmetica con le parole (king - man + woman):\")\n",
    "print(f\"Risultato: {analogy[0][0]}\")\n",
    "\n",
    "# 3. Calcola la similarità tra due parole\n",
    "word1 = 'king'\n",
    "word2 = 'queen'\n",
    "similarity = model.similarity(word1, word2)\n",
    "print(f\"\\nSimilarità tra '{word1}' e '{word2}': {similarity:.4f}\")\n",
    "\n",
    "# 4. Verifica se una parola è nel vocabolario\n",
    "word_check = 'apple'\n",
    "if word_check in model:\n",
    "    print(f\"\\nLa parola '{word_check}' è nel vocabolario.\")\n",
    "else:\n",
    "    print(f\"\\nLa parola '{word_check}' NON è nel vocabolario.\")\n",
    "\n",
    "# 5. Visualizzare un vettore di una parola\n",
    "word_vector = model[word]\n",
    "print(f\"\\nVettore della parola '{word}':\\n{word_vector[:10]}...\")  # Visualizza solo i primi 10 valori per brevità\n"
   ]
  },
  {
   "cell_type": "code",
   "execution_count": null,
   "id": "bc562a81-48aa-46c6-aabd-bc745248dc04",
   "metadata": {},
   "outputs": [],
   "source": []
  }
 ],
 "metadata": {
  "kernelspec": {
   "display_name": "myproject",
   "language": "python",
   "name": "myproject"
  },
  "language_info": {
   "codemirror_mode": {
    "name": "ipython",
    "version": 3
   },
   "file_extension": ".py",
   "mimetype": "text/x-python",
   "name": "python",
   "nbconvert_exporter": "python",
   "pygments_lexer": "ipython3",
   "version": "3.11.9"
  }
 },
 "nbformat": 4,
 "nbformat_minor": 5
}
