{
 "cells": [
  {
   "cell_type": "code",
   "execution_count": 1,
   "id": "dee0d26e-9322-4c75-8d57-be3f8fac7ee8",
   "metadata": {},
   "outputs": [
    {
     "name": "stderr",
     "output_type": "stream",
     "text": [
      "[nltk_data] Downloading package brown to\n",
      "[nltk_data]     C:\\Users\\ANGELAANGUILANO\\AppData\\Roaming\\nltk_data...\n",
      "[nltk_data]   Unzipping corpora\\brown.zip.\n",
      "[nltk_data] Downloading package punkt to\n",
      "[nltk_data]     C:\\Users\\ANGELAANGUILANO\\AppData\\Roaming\\nltk_data...\n",
      "[nltk_data]   Package punkt is already up-to-date!\n"
     ]
    },
    {
     "data": {
      "text/plain": [
       "True"
      ]
     },
     "execution_count": 1,
     "metadata": {},
     "output_type": "execute_result"
    }
   ],
   "source": [
    "\n",
    "import gensim\n",
    "from gensim.models import Word2Vec, FastText\n",
    "import numpy as np\n",
    "from sklearn.manifold import TSNE\n",
    "import matplotlib.pyplot as plt\n",
    "import nltk\n",
    "from nltk.corpus import brown\n",
    "\n",
    "# Download necessary NLTK data\n",
    "nltk.download('brown')\n",
    "nltk.download('punkt')"
   ]
  },
  {
   "cell_type": "code",
   "execution_count": 2,
   "id": "6aff5b2d-1aea-4ca1-8e96-9ad010e7f97b",
   "metadata": {},
   "outputs": [
    {
     "name": "stdout",
     "output_type": "stream",
     "text": [
      "Preparing data...\n",
      "Number of processed sentences: 56766\n",
      "First 5 processed sentences: [['the', 'fulton', 'county', 'grand', 'jury', 'said', 'friday', 'an', 'investigation', 'of', 'recent', 'primary', 'election', 'produced', 'no', 'evidence', 'that', 'any', 'irregularities', 'took', 'place'], ['the', 'jury', 'further', 'said', 'in', 'presentments', 'that', 'the', 'city', 'executive', 'committee', 'which', 'had', 'charge', 'of', 'the', 'election', 'deserves', 'the', 'praise', 'and', 'thanks', 'of', 'the', 'city', 'of', 'atlanta', 'for', 'the', 'manner', 'in', 'which', 'the', 'election', 'was', 'conducted'], ['the', 'term', 'jury', 'had', 'been', 'charged', 'by', 'fulton', 'superior', 'court', 'judge', 'durwood', 'pye', 'to', 'investigate', 'reports', 'of', 'possible', 'irregularities', 'in', 'the', 'primary', 'which', 'was', 'won', 'by', 'ivan', 'allen'], ['only', 'a', 'relative', 'handful', 'of', 'such', 'reports', 'was', 'received', 'the', 'jury', 'said', 'considering', 'the', 'widespread', 'interest', 'in', 'the', 'election', 'the', 'number', 'of', 'voters', 'and', 'the', 'size', 'of', 'this', 'city'], ['the', 'jury', 'said', 'it', 'did', 'find', 'that', 'many', 'of', 'registration', 'and', 'election', 'laws', 'are', 'outmoded', 'or', 'inadequate', 'and', 'often', 'ambiguous']]\n"
     ]
    }
   ],
   "source": [
    "\n",
    "# --- 1. Prepare Data ---\n",
    "# Using the Brown corpus for demonstration. We'll pre-process it a bit.\n",
    "print(\"Preparing data...\")\n",
    "sentences = brown.sents()\n",
    "processed_sentences = [[word.lower() for word in sentence if word.isalpha()] for sentence in sentences]\n",
    "\n",
    "# Filter out empty sentences after processing\n",
    "processed_sentences = [s for s in processed_sentences if s]\n",
    "\n",
    "print(f\"Number of processed sentences: {len(processed_sentences)}\")\n",
    "print(f\"First 5 processed sentences: {processed_sentences[:5]}\")"
   ]
  },
  {
   "cell_type": "code",
   "execution_count": 3,
   "id": "7df76daa-4221-4169-8a70-5a1f756d5ea6",
   "metadata": {},
   "outputs": [
    {
     "name": "stdout",
     "output_type": "stream",
     "text": [
      "\n",
      "--- Word2Vec Demonstration ---\n",
      "Word2Vec model trained.\n",
      "Vector for 'king': [ 0.6089936   0.43386626 -1.0782328   0.10578308 -0.32264522]...\n",
      "Words most similar to 'king' (Word2Vec):\n",
      "  richard: 0.8004\n",
      "  judge: 0.7753\n",
      "  governor: 0.7749\n",
      "  john: 0.7631\n",
      "  henry: 0.7604\n",
      "  charles: 0.7575\n",
      "  smith: 0.7475\n",
      "  mary: 0.7437\n",
      "  colonel: 0.7436\n",
      "  rainier: 0.7432\n",
      "\n",
      "Analogy: 'king' - 'man' + 'woman' = ? (Word2Vec)\n",
      "  queen: 0.7680\n",
      "  mary: 0.7570\n",
      "  szold: 0.7447\n",
      "  richard: 0.7446\n",
      "  anne: 0.7433\n",
      "  judy: 0.7337\n",
      "  giles: 0.7324\n",
      "  henry: 0.7313\n",
      "  samuel: 0.7286\n",
      "  james: 0.7266\n"
     ]
    }
   ],
   "source": [
    "\n",
    "# --- 2. Word2Vec Demonstration ---\n",
    "print(\"\\n--- Word2Vec Demonstration ---\")\n",
    "# Train a Word2Vec model\n",
    "# Parameters: vector_size (dimensions of the embedding), window (context window size), min_count (ignore words with frequency lower than this)\n",
    "word2vec_model = Word2Vec(sentences=processed_sentences, vector_size=100, window=5, min_count=1, workers=4, sg=0) # sg=0 for CBOW, sg=1 for Skip-gram\n",
    "word2vec_model.train(processed_sentences, total_examples=word2vec_model.corpus_count, epochs=10)\n",
    "print(\"Word2Vec model trained.\")\n",
    "\n",
    "# Get word vectors\n",
    "word2vec_vector_king = word2vec_model.wv['king']\n",
    "word2vec_vector_queen = word2vec_model.wv['queen']\n",
    "word2vec_vector_man = word2vec_model.wv['man']\n",
    "word2vec_vector_woman = word2vec_model.wv['woman']\n",
    "\n",
    "print(f\"Vector for 'king': {word2vec_vector_king[:5]}...\")\n",
    "\n",
    "# Find most similar words\n",
    "print(\"Words most similar to 'king' (Word2Vec):\")\n",
    "for word, score in word2vec_model.wv.most_similar('king'):\n",
    "    print(f\"  {word}: {score:.4f}\")\n",
    "\n",
    "print(\"\\nAnalogy: 'king' - 'man' + 'woman' = ? (Word2Vec)\")\n",
    "result = word2vec_model.wv.most_similar(positive=['king', 'woman'], negative=['man'])\n",
    "for word, score in result:\n",
    "    print(f\"  {word}: {score:.4f}\")"
   ]
  },
  {
   "cell_type": "code",
   "execution_count": 4,
   "id": "a7d187c7-40da-492b-90a6-d004a39ad238",
   "metadata": {},
   "outputs": [
    {
     "name": "stdout",
     "output_type": "stream",
     "text": [
      "\n",
      "--- GloVe Demonstration (Conceptual/Simplified) ---\n",
      "GloVe is typically trained on large corpora and pre-trained models are often used.\n",
      "For educational purposes, we'll illustrate its principles by showing how to load a pre-trained model (if available) or discuss its output structure.\n",
      "Training GloVe from scratch is computationally intensive and beyond a simple demo.\n"
     ]
    }
   ],
   "source": [
    "\n",
    "# --- 3. GloVe Demonstration (Conceptual/Simplified) ---\n",
    "print(\"\\n--- GloVe Demonstration (Conceptual/Simplified) ---\")\n",
    "print(\"GloVe is typically trained on large corpora and pre-trained models are often used.\")\n",
    "print(\"For educational purposes, we'll illustrate its principles by showing how to load a pre-trained model (if available) or discuss its output structure.\")\n",
    "print(\"Training GloVe from scratch is computationally intensive and beyond a simple demo.\")\n",
    "\n",
    "# In a real scenario, you would download a pre-trained GloVe model, e.g., from:\n",
    "# https://nlp.stanford.edu/projects/glove/\n",
    "# And then load it like this (example, requires glove.6B.100d.txt to be downloaded and unzipped):\n",
    "# from gensim.scripts.glove2word2vec import glove2word2vec\n",
    "# glove_input_file = 'glove.6B.100d.txt'\n",
    "# word2vec_output_file = 'glove.6B.100d.word2vec.txt'\n",
    "# glove2word2vec(glove_input_file, word2vec_output_file)\n",
    "# glove_model = gensim.models.KeyedVectors.load_word2vec_format(word2vec_output_file, binary=False)\n",
    "\n",
    "# For this demo, we'll simulate a GloVe-like output using Word2Vec for comparison\n",
    "# (This is NOT actual GloVe, but shows how you'd interact with vectors)\n",
    "# If you had a loaded glove_model, you would use glove_model.wv['word']\n"
   ]
  },
  {
   "cell_type": "code",
   "execution_count": 5,
   "id": "9f39b9be-4dda-4bbe-a72f-4b79629c98d3",
   "metadata": {},
   "outputs": [
    {
     "name": "stdout",
     "output_type": "stream",
     "text": [
      "\n",
      "--- FastText Demonstration ---\n",
      "FastText model trained.\n"
     ]
    }
   ],
   "source": [
    "\n",
    "# --- 4. FastText Demonstration ---\n",
    "print(\"\\n--- FastText Demonstration ---\")\n",
    "# Train a FastText model\n",
    "# FastText is an extension of Word2Vec that uses subword information.\n",
    "fasttext_model = FastText(sentences=processed_sentences, vector_size=100, window=5, min_count=1, workers=4, sg=0)\n",
    "fasttext_model.train(processed_sentences, total_examples=fasttext_model.corpus_count, epochs=10)\n",
    "print(\"FastText model trained.\")\n"
   ]
  },
  {
   "cell_type": "code",
   "execution_count": 6,
   "id": "92df772b-8037-4d9d-9653-5f68b6fa39b0",
   "metadata": {},
   "outputs": [
    {
     "name": "stdout",
     "output_type": "stream",
     "text": [
      "Vector for 'king': [ 0.6062264  3.47017   -2.198327   1.017416   0.6003531]...\n",
      "Words most similar to 'king' (FastText):\n",
      "  yanking: 0.9891\n",
      "  joking: 0.9885\n",
      "  lyking: 0.9884\n",
      "  poking: 0.9871\n",
      "  lurking: 0.9868\n",
      "  hulking: 0.9866\n",
      "  evoking: 0.9848\n",
      "  risking: 0.9830\n",
      "  peking: 0.9823\n",
      "  choking: 0.9818\n",
      "\n",
      "Analogy: 'king' - 'man' + 'woman' = ? (FastText)\n",
      "  joking: 0.9329\n",
      "  hulking: 0.9313\n",
      "  wrecking: 0.9299\n",
      "  yanking: 0.9296\n",
      "  evoking: 0.9290\n",
      "  choking: 0.9283\n",
      "  shrieking: 0.9270\n",
      "  loving: 0.9264\n",
      "  swaying: 0.9264\n",
      "  howling: 0.9257\n",
      "\n",
      "FastText with OOV word 'runing' (misspelled 'running'):\n",
      "Vector for 'runing': [-0.06180692  2.1461442  -0.9627595   0.8419472   0.9508645 ]...\n"
     ]
    }
   ],
   "source": [
    "\n",
    "# Get word vectors\n",
    "fasttext_vector_king = fasttext_model.wv['king']\n",
    "print(f\"Vector for 'king': {fasttext_vector_king[:5]}...\")\n",
    "\n",
    "# Find most similar words\n",
    "print(\"Words most similar to 'king' (FastText):\")\n",
    "for word, score in fasttext_model.wv.most_similar('king'):\n",
    "    print(f\"  {word}: {score:.4f}\")\n",
    "\n",
    "print(\"\\nAnalogy: 'king' - 'man' + 'woman' = ? (FastText)\")\n",
    "result_ft = fasttext_model.wv.most_similar(positive=['king', 'woman'], negative=['man'])\n",
    "for word, score in result_ft:\n",
    "    print(f\"  {word}: {score:.4f}\")\n",
    "\n",
    "# FastText's strength: handling out-of-vocabulary (OOV) words and misspelled words\n",
    "print(\"\\nFastText with OOV word 'runing' (misspelled 'running'):\")\n",
    "if 'runing' in fasttext_model.wv:\n",
    "    print(f\"Vector for 'runing': {fasttext_model.wv['runing'][:5]}...\")\n",
    "else:\n",
    "    print(\"Word 'runing' not in vocabulary, but FastText can still infer a vector.\")\n",
    "    # FastText can generate vectors for OOV words by combining subword embeddings\n",
    "    # Note: For words not seen at all, it might still return a vector based on its character n-grams.\n",
    "    # The 'in' check above might be true if the word was encountered, but if it's truly OOV,\n",
    "    # fasttext_model.wv['oovword'] would still return a vector.\n",
    "    # Let's try a truly unseen word to demonstrate this.\n",
    "    print(f\"Inferred vector for 'unseenwordxyz': {fasttext_model.wv['unseenwordxyz'][:5]}...\")\n",
    "\n"
   ]
  },
  {
   "cell_type": "code",
   "execution_count": 7,
   "id": "12111f8e-0a93-4854-9079-9fb31bb9bb5c",
   "metadata": {},
   "outputs": [
    {
     "name": "stdout",
     "output_type": "stream",
     "text": [
      "\n",
      "--- Visualization (t-SNE) ---\n",
      "Applying t-SNE for Word2Vec...\n",
      "Applying t-SNE for FastText...\n",
      "t-SNE plot saved as 'word_embeddings_tsne_plot.png'\n"
     ]
    },
    {
     "data": {
      "image/png": "[encoded data removed]",
      "text/plain": [
       "<Figure size 1200x600 with 2 Axes>"
      ]
     },
     "metadata": {},
     "output_type": "display_data"
    }
   ],
   "source": [
    "\n",
    "# --- 5. Visualization (t-SNE) ---\n",
    "print(\"\\n--- Visualization (t-SNE) ---\")\n",
    "# Select some common words for visualization\n",
    "words_to_visualize = ['king', 'queen', 'man', 'woman', 'boy', 'girl', 'apple', 'orange', 'computer', 'science', 'love', 'hate']\n",
    "\n",
    "# Filter words that are actually in the vocabulary\n",
    "word2vec_vocab_words = [word for word in words_to_visualize if word in word2vec_model.wv]\n",
    "fasttext_vocab_words = [word for word in words_to_visualize if word in fasttext_model.wv]\n",
    "\n",
    "if len(word2vec_vocab_words) < 2 or len(fasttext_vocab_words) < 2:\n",
    "    print(\"Not enough words in vocabulary for visualization after filtering. Try a larger corpus or different words.\")\n",
    "else:\n",
    "    # Get vectors for Word2Vec\n",
    "    word2vec_vectors = [word2vec_model.wv[word] for word in word2vec_vocab_words]\n",
    "    word2vec_vectors = np.array(word2vec_vectors)\n",
    "\n",
    "    # Get vectors for FastText\n",
    "    fasttext_vectors = [fasttext_model.wv[word] for word in fasttext_vocab_words]\n",
    "    fasttext_vectors = np.array(fasttext_vectors)\n",
    "\n",
    "    # Apply t-SNE for dimensionality reduction to 2D\n",
    "    print(\"Applying t-SNE for Word2Vec...\")\n",
    "    tsne_w2v = TSNE(n_components=2, random_state=42, perplexity=min(len(word2vec_vocab_words)-1, 30))\n",
    "    word2vec_2d = tsne_w2v.fit_transform(word2vec_vectors)\n",
    "\n",
    "    print(\"Applying t-SNE for FastText...\")\n",
    "    tsne_ft = TSNE(n_components=2, random_state=42, perplexity=min(len(fasttext_vocab_words)-1, 30))\n",
    "    fasttext_2d = tsne_ft.fit_transform(fasttext_vectors)\n",
    "\n",
    "    # Plotting Word2Vec results\n",
    "    plt.figure(figsize=(12, 6))\n",
    "\n",
    "    plt.subplot(1, 2, 1)\n",
    "    plt.scatter(word2vec_2d[:, 0], word2vec_2d[:, 1])\n",
    "    for i, word in enumerate(word2vec_vocab_words):\n",
    "        plt.annotate(word, xy=(word2vec_2d[i, 0], word2vec_2d[i, 1]))\n",
    "    plt.title('Word2Vec Embeddings (t-SNE)')\n",
    "    plt.xlabel('Dimension 1')\n",
    "    plt.ylabel('Dimension 2')\n",
    "\n",
    "    # Plotting FastText results\n",
    "    plt.subplot(1, 2, 2)\n",
    "    plt.scatter(fasttext_2d[:, 0], fasttext_2d[:, 1])\n",
    "    for i, word in enumerate(fasttext_vocab_words):\n",
    "        plt.annotate(word, xy=(fasttext_2d[i, 0], fasttext_2d[i, 1]))\n",
    "    plt.title('FastText Embeddings (t-SNE)')\n",
    "    plt.xlabel('Dimension 1')\n",
    "    plt.ylabel('Dimension 2')\n",
    "\n",
    "    plt.tight_layout()\n",
    "    plt.savefig('word_embeddings_tsne_plot.png')\n",
    "    print(\"t-SNE plot saved as 'word_embeddings_tsne_plot.png'\")\n",
    "    plt.show()"
   ]
  },
  {
   "cell_type": "code",
   "execution_count": 8,
   "id": "33e8d4a7-529a-466f-ad66-5603140d6f75",
   "metadata": {},
   "outputs": [
    {
     "name": "stdout",
     "output_type": "stream",
     "text": [
      "\n",
      "--- Conclusion ---\n",
      "This script demonstrates the basic usage of Word2Vec and FastText for generating word embeddings.\n",
      "It also conceptually explains GloVe, which is typically used with pre-trained models.\n",
      "The t-SNE plots provide a visual representation of how these models map words into a lower-dimensional space.\n"
     ]
    }
   ],
   "source": [
    "print(\"\\n--- Conclusion ---\")\n",
    "print(\"This script demonstrates the basic usage of Word2Vec and FastText for generating word embeddings.\")\n",
    "print(\"It also conceptually explains GloVe, which is typically used with pre-trained models.\")\n",
    "print(\"The t-SNE plots provide a visual representation of how these models map words into a lower-dimensional space.\")\n"
   ]
  }
 ],
 "metadata": {
  "kernelspec": {
   "display_name": "myproject",
   "language": "python",
   "name": "myproject"
  },
  "language_info": {
   "codemirror_mode": {
    "name": "ipython",
    "version": 3
   },
   "file_extension": ".py",
   "mimetype": "text/x-python",
   "name": "python",
   "nbconvert_exporter": "python",
   "pygments_lexer": "ipython3",
   "version": "3.11.9"
  }
 },
 "nbformat": 4,
 "nbformat_minor": 5
}
