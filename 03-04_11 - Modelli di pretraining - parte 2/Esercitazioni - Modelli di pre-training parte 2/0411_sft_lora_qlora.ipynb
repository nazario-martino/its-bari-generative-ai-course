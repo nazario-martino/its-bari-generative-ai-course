{
 "cells": [
  {
   "cell_type": "markdown",
   "metadata": {},
   "source": [
    "# 📘 Day 2 (04/11) — Supervised Fine-Tuning, LoRA e QLoRA\n",
    "\n",
    "**Obiettivo pratico (4 ore di codice)**: Apprendere il Supervised Fine-Tuning (SFT) e metodi efficienti (LoRA, QLoRA) su dataset IMDB per sentiment analysis con DistilBERT e GPT-2.\n",
    "\n",
    "---\n",
    "\n",
    "## 🗺️ Roadmap della lezione (240 minuti di codice)\n",
    "\n",
    "| **Sezione** | **Contenuto** | **Tempo stimato** |\n",
    "|-------------|---------------|-------------------|\n",
    "| 1 | Setup e teoria SFT | 20' |\n",
    "| 2 | Preparazione dataset IMDB | 30' |\n",
    "| 3 | SFT su DistilBERT (classification) | 60' |\n",
    "| 4 | LoRA su GPT-2 | 50' |\n",
    "| 5 | QLoRA su GPT-2 | 50' |\n",
    "| 6 | Confronto base vs fine-tuned | 30' |\n",
    "| **TOTALE** | | **240'** |\n",
    "\n",
    "---\n",
    "\n",
    "## 📚 Leggi dopo (teoria fuori orario)\n",
    "\n",
    "### Supervised Fine-Tuning (SFT)\n",
    "- **Definizione**: adattare un modello pre-trained a un task specifico usando dati labeled\n",
    "- **Differenza da pre-training**: pre-training usa dati non supervisionati (next token prediction), SFT usa dati labeled (es. sentiment, QA)\n",
    "- **Vantaggi**: costi ridotti, specializzazione, performance migliori su task specifici\n",
    "- **Svantaggi**: rischio overfitting su dataset piccoli, dipendenza da qualità labels\n",
    "\n",
    "### LoRA (Low-Rank Adaptation)\n",
    "- **Paper**: Hu et al., 2021 - \"LoRA: Low-Rank Adaptation of Large Language Models\"\n",
    "- **Idea**: invece di aggiornare tutti i pesi W, aggiungi matrici low-rank A e B\n",
    "- **Formula**: `W' = W + BA` dove B ∈ R^(d×r), A ∈ R^(r×k), r << d\n",
    "- **Vantaggi**: riduce parametri trainable del 90-99%, memoria ridotta, training più veloce\n",
    "- **Parametri chiave**:\n",
    "  - `r` (rank): dimensione bottleneck (tipicamente 4-64)\n",
    "  - `alpha`: scaling factor (tipicamente 16-32)\n",
    "  - `target_modules`: quali layer modificare (query, value, etc.)\n",
    "\n",
    "### QLoRA (Quantized LoRA)\n",
    "- **Paper**: Dettmers et al., 2023 - \"QLoRA: Efficient Finetuning of Quantized LLMs\"\n",
    "- **Idea**: combina quantizzazione (int4/int8) + LoRA\n",
    "- **Vantaggi**: riduce memoria del 75% rispetto a LoRA, permette fine-tuning di modelli grandi su GPU consumer\n",
    "- **Libreria**: `bitsandbytes` per quantizzazione\n",
    "\n",
    "### Librerie di supporto\n",
    "- **PEFT** (Parameter-Efficient Fine-Tuning): libreria Hugging Face per LoRA, QLoRA, etc.\n",
    "- **Axolotl**: framework per fine-tuning con config YAML\n",
    "- **DeepSpeed**: ottimizzazioni per training distribuito (ZeRO optimizer)\n",
    "- **Hugging Face Trainer**: API high-level per training\n",
    "\n",
    "---"
   ]
  },
  {
   "cell_type": "markdown",
   "metadata": {},
   "source": [
    "## 1️⃣ Setup e teoria SFT (20 minuti)"
   ]
  },
  {
   "cell_type": "code",
   "execution_count": 1,
   "metadata": {},
   "outputs": [
    {
     "name": "stdout",
     "output_type": "stream",
     "text": [
      "Note: you may need to restart the kernel to use updated packages.\n"
     ]
    }
   ],
   "source": [
    "# Installazione librerie\n",
    "%pip install torch transformers datasets peft bitsandbytes accelerate scikit-learn matplotlib pandas numpy -q"
   ]
  },
  {
   "cell_type": "markdown",
   "metadata": {},
   "source": [
    "Dopo l'installazione, se appare il messaggio che chiede di riavviare il kernel, dalla toolbar in alto selezionare **\"Kernel\"** e in seguito **\"Restart Kernel and Clear Outputs of All Cells...\"** \n",
    "\n",
    "**Attendere circa 30 secondi e in seguito NON eseguire nuovamente il blocco \"Installazione librerie\" ma procedere con il blocco successivo, \"Import librerie\"**"
   ]
  },
  {
   "cell_type": "code",
   "execution_count": 2,
   "metadata": {},
   "outputs": [
    {
     "name": "stdout",
     "output_type": "stream",
     "text": [
      "✅ Trasformers version: 4.57.1\n",
      "✅ PyTorch: 2.8.0+cpu\n",
      "✅ Device: cpu\n",
      "✅ Seed: 42\n"
     ]
    }
   ],
   "source": [
    "# Import librerie\n",
    "import torch\n",
    "import transformers\n",
    "from transformers import (\n",
    "    AutoTokenizer, \n",
    "    AutoModelForSequenceClassification,\n",
    "    AutoModelForCausalLM,\n",
    "    Trainer, \n",
    "    TrainingArguments,\n",
    "    set_seed\n",
    ")\n",
    "from transformers.utils import logging as hf_logging\n",
    "from datasets import load_dataset\n",
    "from peft import LoraConfig, get_peft_model, prepare_model_for_kbit_training, TaskType\n",
    "import matplotlib.pyplot as plt\n",
    "import pandas as pd\n",
    "import numpy as np\n",
    "from sklearn.metrics import accuracy_score, f1_score, confusion_matrix\n",
    "import os\n",
    "import time\n",
    "import warnings\n",
    "warnings.filterwarnings('ignore')\n",
    "\n",
    "# Seed\n",
    "SEED = 42\n",
    "set_seed(SEED)\n",
    "\n",
    "# Device\n",
    "device = torch.device('cuda' if torch.cuda.is_available() else 'cpu')\n",
    "\n",
    "print(f\"✅ Trasformers version: {transformers.__version__}\")\n",
    "print(f\"✅ PyTorch: {torch.__version__}\")\n",
    "print(f\"✅ Device: {device}\")\n",
    "print(f\"✅ Seed: {SEED}\")"
   ]
  },
  {
   "cell_type": "code",
   "execution_count": 3,
   "metadata": {},
   "outputs": [
    {
     "name": "stdout",
     "output_type": "stream",
     "text": [
      "✅ Directory create\n"
     ]
    }
   ],
   "source": [
    "# Creazione directory\n",
    "os.makedirs('./data', exist_ok=True)\n",
    "os.makedirs('./results_day2', exist_ok=True)\n",
    "os.makedirs('./models_day2', exist_ok=True)\n",
    "print(\"✅ Directory create\")"
   ]
  },
  {
   "cell_type": "markdown",
   "metadata": {},
   "source": [
    "### 📖 Teoria: SFT vs Pre-training\n",
    "\n",
    "| **Aspetto** | **Pre-training** | **Supervised Fine-Tuning (SFT)** |\n",
    "|-------------|------------------|----------------------------------|\n",
    "| **Obiettivo** | Apprendere rappresentazioni generali | Specializzare su task specifico |\n",
    "| **Dati** | Non supervisionati (testo raw) | Supervisionati (labeled) |\n",
    "| **Loss** | Next token prediction (CLM) | Task-specific (classification, QA, etc.) |\n",
    "| **Dataset size** | Miliardi di token | Migliaia/milioni di esempi |\n",
    "| **Costo** | Altissimo ($100K - $10M) | Basso ($100 - $10K) |\n",
    "| **Tempo** | Settimane/mesi | Ore/giorni |\n",
    "| **Quando usare** | Creare modello da zero | Adattare modello esistente |\n",
    "\n",
    "### Applicazioni tipiche di SFT:\n",
    "1. **Sentiment analysis**: classificare recensioni (positivo/negativo)\n",
    "2. **Question Answering**: rispondere a domande su contesto\n",
    "3. **Summarization**: riassumere documenti\n",
    "4. **Named Entity Recognition**: estrarre entità (persone, luoghi, etc.)\n",
    "5. **Chatbot**: generare risposte conversazionali\n",
    "\n",
    "### Limiti di SFT:\n",
    "- **Overfitting**: su dataset piccoli (<1000 esempi)\n",
    "- **Distribuzione shift**: se test set diverso da train set\n",
    "- **Bias**: eredita bias da labels umani\n",
    "- **Catastrophic forgetting**: può dimenticare conoscenze pre-training"
   ]
  },
  {
   "cell_type": "markdown",
   "metadata": {},
   "source": [
    "---\n",
    "\n",
    "## 2️⃣ Preparazione dataset IMDB (30 minuti)\n",
    "\n",
    "**IMDB** è un dataset di recensioni di film:\n",
    "- 50,000 recensioni totali (25K train, 25K test)\n",
    "- 2 classi: positivo (1) e negativo (0)\n",
    "- Testo in inglese, lunghezza variabile\n",
    "\n",
    "Per velocità su CPU, useremo una versione ridotta."
   ]
  },
  {
   "cell_type": "code",
   "execution_count": 4,
   "metadata": {},
   "outputs": [
    {
     "name": "stdout",
     "output_type": "stream",
     "text": [
      "⏳ Caricamento dataset IMDB...\n",
      "\n",
      "✅ Dataset caricato!\n",
      "   Train: 25000 esempi\n",
      "   Test: 25000 esempi\n"
     ]
    }
   ],
   "source": [
    "# Carica dataset IMDB\n",
    "print(\"⏳ Caricamento dataset IMDB...\")\n",
    "\n",
    "dataset = load_dataset('imdb')\n",
    "\n",
    "print(f\"\\n✅ Dataset caricato!\")\n",
    "print(f\"   Train: {len(dataset['train'])} esempi\")\n",
    "print(f\"   Test: {len(dataset['test'])} esempi\")"
   ]
  },
  {
   "cell_type": "code",
   "execution_count": 5,
   "metadata": {},
   "outputs": [
    {
     "name": "stdout",
     "output_type": "stream",
     "text": [
      "\n",
      "📊 Esempio di recensione:\n",
      "\n",
      "Testo: I rented I AM CURIOUS-YELLOW from my video store because of all the controversy that surrounded it when it was first released in 1967. I also heard that at first it was seized by U.S. customs if it ev...\n",
      "\n",
      "Label: 0 (Negativo)\n"
     ]
    }
   ],
   "source": [
    "# Esplora dataset\n",
    "print(\"\\n📊 Esempio di recensione:\\n\")\n",
    "\n",
    "example = dataset['train'][0]\n",
    "print(f\"Testo: {example['text'][:200]}...\")\n",
    "print(f\"\\nLabel: {example['label']} ({'Positivo' if example['label'] == 1 else 'Negativo'})\")"
   ]
  },
  {
   "cell_type": "code",
   "execution_count": 6,
   "metadata": {},
   "outputs": [
    {
     "name": "stdout",
     "output_type": "stream",
     "text": [
      "\n",
      "✅ Dataset ridotto:\n",
      "   Train: 2000 esempi\n",
      "   Test: 500 esempi\n"
     ]
    }
   ],
   "source": [
    "# Riduci dataset per velocità (CPU-friendly)\n",
    "# Usiamo 2000 train, 500 test\n",
    "\n",
    "TRAIN_SIZE = 2000\n",
    "TEST_SIZE = 500\n",
    "\n",
    "train_dataset = dataset['train'].shuffle(seed=SEED).select(range(TRAIN_SIZE))\n",
    "test_dataset = dataset['test'].shuffle(seed=SEED).select(range(TEST_SIZE))\n",
    "\n",
    "print(f\"\\n✅ Dataset ridotto:\")\n",
    "print(f\"   Train: {len(train_dataset)} esempi\")\n",
    "print(f\"   Test: {len(test_dataset)} esempi\")"
   ]
  },
  {
   "cell_type": "code",
   "execution_count": 7,
   "metadata": {},
   "outputs": [
    {
     "name": "stdout",
     "output_type": "stream",
     "text": [
      "\n",
      "📊 Distribuzione classi:\n",
      "\n",
      "Train:\n",
      "   Positivo: 1000 (50.0%)\n",
      "   Negativo: 1000 (50.0%)\n",
      "\n",
      "Test:\n",
      "   Positivo: 246 (49.2%)\n",
      "   Negativo: 254 (50.8%)\n",
      "\n",
      "✅ Grafico salvato in ./results_day2/class_distribution.png\n"
     ]
    },
    {
     "data": {
      "image/png": "[encoded data removed]",
      "text/plain": [
       "<Figure size 1200x500 with 2 Axes>"
      ]
     },
     "metadata": {},
     "output_type": "display_data"
    }
   ],
   "source": [
    "# Analizza distribuzione classi\n",
    "train_labels = [ex['label'] for ex in train_dataset]\n",
    "test_labels = [ex['label'] for ex in test_dataset]\n",
    "\n",
    "train_pos = sum(train_labels)\n",
    "train_neg = len(train_labels) - train_pos\n",
    "\n",
    "test_pos = sum(test_labels)\n",
    "test_neg = len(test_labels) - test_pos\n",
    "\n",
    "print(\"\\n📊 Distribuzione classi:\\n\")\n",
    "print(f\"Train:\")\n",
    "print(f\"   Positivo: {train_pos} ({train_pos/len(train_labels)*100:.1f}%)\")\n",
    "print(f\"   Negativo: {train_neg} ({train_neg/len(train_labels)*100:.1f}%)\")\n",
    "print(f\"\\nTest:\")\n",
    "print(f\"   Positivo: {test_pos} ({test_pos/len(test_labels)*100:.1f}%)\")\n",
    "print(f\"   Negativo: {test_neg} ({test_neg/len(test_labels)*100:.1f}%)\")\n",
    "\n",
    "# Visualizza\n",
    "fig, axes = plt.subplots(1, 2, figsize=(12, 5))\n",
    "\n",
    "axes[0].bar(['Negativo', 'Positivo'], [train_neg, train_pos], color=['#e74c3c', '#2ecc71'], alpha=0.7, edgecolor='black')\n",
    "axes[0].set_title('Train Set')\n",
    "axes[0].set_ylabel('Numero esempi')\n",
    "axes[0].grid(True, alpha=0.3, axis='y')\n",
    "\n",
    "axes[1].bar(['Negativo', 'Positivo'], [test_neg, test_pos], color=['#e74c3c', '#2ecc71'], alpha=0.7, edgecolor='black')\n",
    "axes[1].set_title('Test Set')\n",
    "axes[1].set_ylabel('Numero esempi')\n",
    "axes[1].grid(True, alpha=0.3, axis='y')\n",
    "\n",
    "plt.tight_layout()\n",
    "plt.savefig('./results_day2/class_distribution.png', dpi=150, bbox_inches='tight')\n",
    "print(\"\\n✅ Grafico salvato in ./results_day2/class_distribution.png\")\n",
    "plt.show()"
   ]
  },
  {
   "cell_type": "markdown",
   "metadata": {},
   "source": [
    "---\n",
    "\n",
    "## 3️⃣ SFT su DistilBERT (classification) (60 minuti)\n",
    "\n",
    "**DistilBERT** è una versione distillata di BERT:\n",
    "- 66M parametri (vs 110M di BERT-base)\n",
    "- 40% più veloce\n",
    "- 97% delle performance di BERT\n",
    "- Ottimo per classification\n",
    "\n",
    "Faremo **full fine-tuning** (tutti i parametri trainable)."
   ]
  },
  {
   "cell_type": "code",
   "execution_count": 8,
   "metadata": {},
   "outputs": [
    {
     "name": "stdout",
     "output_type": "stream",
     "text": [
      "⏳ Caricamento distilbert-base-uncased...\n"
     ]
    },
    {
     "name": "stderr",
     "output_type": "stream",
     "text": [
      "Some weights of DistilBertForSequenceClassification were not initialized from the model checkpoint at distilbert-base-uncased and are newly initialized: ['classifier.bias', 'classifier.weight', 'pre_classifier.bias', 'pre_classifier.weight']\n",
      "You should probably TRAIN this model on a down-stream task to be able to use it for predictions and inference.\n"
     ]
    },
    {
     "name": "stdout",
     "output_type": "stream",
     "text": [
      "✅ Modello caricato!\n",
      "   Parametri: 67.0M\n"
     ]
    }
   ],
   "source": [
    "# Carica DistilBERT per classification\n",
    "MODEL_NAME = 'distilbert-base-uncased'\n",
    "\n",
    "print(f\"⏳ Caricamento {MODEL_NAME}...\")\n",
    "\n",
    "tokenizer_distilbert = AutoTokenizer.from_pretrained(MODEL_NAME)\n",
    "model_distilbert = AutoModelForSequenceClassification.from_pretrained(\n",
    "    MODEL_NAME,\n",
    "    num_labels=2  # Binary classification\n",
    ")\n",
    "\n",
    "hf_logging.set_verbosity_error()  # o .set_verbosity(hf_logging.ERROR)\n",
    "\n",
    "print(f\"✅ Modello caricato!\")\n",
    "print(f\"   Parametri: {sum(p.numel() for p in model_distilbert.parameters()) / 1e6:.1f}M\")"
   ]
  },
  {
   "cell_type": "code",
   "execution_count": 9,
   "metadata": {},
   "outputs": [
    {
     "name": "stdout",
     "output_type": "stream",
     "text": [
      "⏳ Tokenizzazione in corso...\n",
      "✅ Tokenizzazione completata!\n"
     ]
    }
   ],
   "source": [
    "# Tokenizza dataset\n",
    "def tokenize_function(examples):\n",
    "    \"\"\"\n",
    "    Tokenizza testo per DistilBERT.\n",
    "    \n",
    "    Args:\n",
    "        examples: batch di esempi con campo 'text'\n",
    "    \n",
    "    Returns:\n",
    "        Dizionario con input_ids, attention_mask\n",
    "    \"\"\"\n",
    "    return tokenizer_distilbert(\n",
    "        examples['text'],\n",
    "        padding='max_length',\n",
    "        truncation=True,\n",
    "        max_length=256  # Limita lunghezza per velocità\n",
    "    )\n",
    "\n",
    "print(\"⏳ Tokenizzazione in corso...\")\n",
    "\n",
    "tokenized_train = train_dataset.map(tokenize_function, batched=True)\n",
    "tokenized_test = test_dataset.map(tokenize_function, batched=True)\n",
    "\n",
    "print(\"✅ Tokenizzazione completata!\")"
   ]
  },
  {
   "cell_type": "code",
   "execution_count": 10,
   "metadata": {},
   "outputs": [
    {
     "name": "stdout",
     "output_type": "stream",
     "text": [
      "✅ Metriche definite\n"
     ]
    }
   ],
   "source": [
    "# Definisci metriche\n",
    "def compute_metrics(eval_pred):\n",
    "    \"\"\"\n",
    "    Calcola accuracy e F1 score.\n",
    "    \n",
    "    Args:\n",
    "        eval_pred: tupla (predictions, labels)\n",
    "    \n",
    "    Returns:\n",
    "        Dizionario con metriche\n",
    "    \"\"\"\n",
    "    logits, labels = eval_pred\n",
    "    predictions = np.argmax(logits, axis=-1)\n",
    "    \n",
    "    accuracy = accuracy_score(labels, predictions)\n",
    "    f1 = f1_score(labels, predictions, average='macro')\n",
    "    \n",
    "    return {\n",
    "        'accuracy': accuracy,\n",
    "        'f1': f1\n",
    "    }\n",
    "\n",
    "print(\"✅ Metriche definite\")"
   ]
  },
  {
   "cell_type": "code",
   "execution_count": 11,
   "metadata": {},
   "outputs": [
    {
     "name": "stdout",
     "output_type": "stream",
     "text": [
      "✅ Training arguments configurati\n"
     ]
    }
   ],
   "source": [
    "# Training arguments\n",
    "training_args = TrainingArguments(\n",
    "    output_dir='./models_day2/distilbert_sft',\n",
    "    eval_strategy='epoch',  # Valuta ogni epoca\n",
    "    save_strategy='epoch',\n",
    "    learning_rate=2e-5,  # Learning rate tipico per BERT\n",
    "    per_device_train_batch_size=8,  # Batch size per CPU\n",
    "    per_device_eval_batch_size=8,\n",
    "    num_train_epochs=2,  # 2 epoche per velocità\n",
    "    weight_decay=0.01,  # Regolarizzazione L2\n",
    "    logging_dir='./results_day2/logs',\n",
    "    logging_steps=50,\n",
    "    load_best_model_at_end=True,  # Carica miglior modello\n",
    "    metric_for_best_model='accuracy',\n",
    "    seed=SEED,\n",
    "    report_to='none'  # Disabilita wandb/tensorboard\n",
    ")\n",
    "\n",
    "print(\"✅ Training arguments configurati\")"
   ]
  },
  {
   "cell_type": "code",
   "execution_count": 12,
   "metadata": {},
   "outputs": [
    {
     "name": "stdout",
     "output_type": "stream",
     "text": [
      "✅ Trainer inizializzato\n"
     ]
    }
   ],
   "source": [
    "# Trainer\n",
    "trainer = Trainer(\n",
    "    model=model_distilbert,\n",
    "    args=training_args,\n",
    "    train_dataset=tokenized_train,\n",
    "    eval_dataset=tokenized_test,\n",
    "    compute_metrics=compute_metrics\n",
    ")\n",
    "\n",
    "print(\"✅ Trainer inizializzato\")"
   ]
  },
  {
   "cell_type": "code",
   "execution_count": 13,
   "metadata": {},
   "outputs": [
    {
     "name": "stdout",
     "output_type": "stream",
     "text": [
      "\n",
      "⏳ Training in corso... (questo richiederà ~15-20 minuti su CPU)\n",
      "\n",
      "{'loss': 0.6691, 'grad_norm': 2.472095012664795, 'learning_rate': 1.8040000000000003e-05, 'epoch': 0.2}\n",
      "{'loss': 0.5218, 'grad_norm': 11.319575309753418, 'learning_rate': 1.6040000000000002e-05, 'epoch': 0.4}\n",
      "{'loss': 0.3998, 'grad_norm': 5.659884452819824, 'learning_rate': 1.4040000000000001e-05, 'epoch': 0.6}\n",
      "{'loss': 0.3972, 'grad_norm': 3.707961320877075, 'learning_rate': 1.204e-05, 'epoch': 0.8}\n",
      "{'loss': 0.3009, 'grad_norm': 7.6958794593811035, 'learning_rate': 1.004e-05, 'epoch': 1.0}\n",
      "{'eval_loss': 0.2902233600616455, 'eval_accuracy': 0.88, 'eval_f1': 0.8799923195084485, 'eval_runtime': 104.183, 'eval_samples_per_second': 4.799, 'eval_steps_per_second': 0.605, 'epoch': 1.0}\n",
      "{'loss': 0.2155, 'grad_norm': 9.489081382751465, 'learning_rate': 8.040000000000001e-06, 'epoch': 1.2}\n",
      "{'loss': 0.3068, 'grad_norm': 3.5985476970672607, 'learning_rate': 6.040000000000001e-06, 'epoch': 1.4}\n",
      "{'loss': 0.1692, 'grad_norm': 3.244854211807251, 'learning_rate': 4.04e-06, 'epoch': 1.6}\n",
      "{'loss': 0.1895, 'grad_norm': 1.457921028137207, 'learning_rate': 2.04e-06, 'epoch': 1.8}\n",
      "{'loss': 0.2276, 'grad_norm': 7.547558784484863, 'learning_rate': 4e-08, 'epoch': 2.0}\n",
      "{'eval_loss': 0.36099502444267273, 'eval_accuracy': 0.874, 'eval_f1': 0.873995463836698, 'eval_runtime': 98.2597, 'eval_samples_per_second': 5.089, 'eval_steps_per_second': 0.641, 'epoch': 2.0}\n",
      "{'train_runtime': 3562.3173, 'train_samples_per_second': 1.123, 'train_steps_per_second': 0.14, 'train_loss': 0.3397474308013916, 'epoch': 2.0}\n",
      "\n",
      "✅ Training completato in 59.4 minuti!\n"
     ]
    }
   ],
   "source": [
    "# Training (questo richiederà ~15-20 minuti su CPU)\n",
    "print(\"\\n⏳ Training in corso... (questo richiederà ~15-20 minuti su CPU)\\n\")\n",
    "\n",
    "start_time = time.time()\n",
    "train_result = trainer.train()\n",
    "end_time = time.time()\n",
    "\n",
    "training_time = end_time - start_time\n",
    "\n",
    "print(f\"\\n✅ Training completato in {training_time/60:.1f} minuti!\")"
   ]
  },
  {
   "cell_type": "code",
   "execution_count": 14,
   "metadata": {},
   "outputs": [
    {
     "name": "stdout",
     "output_type": "stream",
     "text": [
      "\n",
      "⏳ Valutazione finale...\n",
      "{'eval_loss': 0.2902233600616455, 'eval_accuracy': 0.88, 'eval_f1': 0.8799923195084485, 'eval_runtime': 102.4911, 'eval_samples_per_second': 4.878, 'eval_steps_per_second': 0.615, 'epoch': 2.0}\n",
      "\n",
      "📊 Risultati:\n",
      "   Accuracy: 0.8800\n",
      "   F1 Score: 0.8800\n",
      "   Loss: 0.2902\n"
     ]
    }
   ],
   "source": [
    "# Valutazione finale\n",
    "print(\"\\n⏳ Valutazione finale...\")\n",
    "\n",
    "eval_results = trainer.evaluate()\n",
    "\n",
    "print(\"\\n📊 Risultati:\")\n",
    "print(f\"   Accuracy: {eval_results['eval_accuracy']:.4f}\")\n",
    "print(f\"   F1 Score: {eval_results['eval_f1']:.4f}\")\n",
    "print(f\"   Loss: {eval_results['eval_loss']:.4f}\")"
   ]
  },
  {
   "cell_type": "code",
   "execution_count": 15,
   "metadata": {},
   "outputs": [
    {
     "name": "stdout",
     "output_type": "stream",
     "text": [
      "\n",
      "✅ Confusion matrix salvata in ./results_day2/confusion_matrix_distilbert.png\n"
     ]
    },
    {
     "data": {
      "image/png": "[encoded data removed]",
      "text/plain": [
       "<Figure size 800x600 with 2 Axes>"
      ]
     },
     "metadata": {},
     "output_type": "display_data"
    }
   ],
   "source": [
    "# Confusion matrix\n",
    "predictions = trainer.predict(tokenized_test)\n",
    "pred_labels = np.argmax(predictions.predictions, axis=-1)\n",
    "true_labels = predictions.label_ids\n",
    "\n",
    "cm = confusion_matrix(true_labels, pred_labels)\n",
    "\n",
    "# Visualizza\n",
    "fig, ax = plt.subplots(figsize=(8, 6))\n",
    "im = ax.imshow(cm, cmap='Blues')\n",
    "\n",
    "ax.set_xticks([0, 1])\n",
    "ax.set_yticks([0, 1])\n",
    "ax.set_xticklabels(['Negativo', 'Positivo'])\n",
    "ax.set_yticklabels(['Negativo', 'Positivo'])\n",
    "\n",
    "ax.set_xlabel('Predicted')\n",
    "ax.set_ylabel('True')\n",
    "ax.set_title('Confusion Matrix - DistilBERT SFT')\n",
    "\n",
    "# Aggiungi valori\n",
    "for i in range(2):\n",
    "    for j in range(2):\n",
    "        text = ax.text(j, i, cm[i, j], ha='center', va='center', color='white' if cm[i, j] > cm.max()/2 else 'black', fontsize=20)\n",
    "\n",
    "plt.colorbar(im, ax=ax)\n",
    "plt.tight_layout()\n",
    "plt.savefig('./results_day2/confusion_matrix_distilbert.png', dpi=150, bbox_inches='tight')\n",
    "print(\"\\n✅ Confusion matrix salvata in ./results_day2/confusion_matrix_distilbert.png\")\n",
    "plt.show()"
   ]
  },
  {
   "cell_type": "code",
   "execution_count": 16,
   "metadata": {},
   "outputs": [
    {
     "name": "stdout",
     "output_type": "stream",
     "text": [
      "✅ Modello salvato in ./models_day2/distilbert_sft_final\n"
     ]
    }
   ],
   "source": [
    "# Salva modello\n",
    "trainer.save_model('./models_day2/distilbert_sft_final')\n",
    "print(\"✅ Modello salvato in ./models_day2/distilbert_sft_final\")"
   ]
  },
  {
   "cell_type": "markdown",
   "metadata": {},
   "source": [
    "### 💡 Osservazioni:\n",
    "\n",
    "1. **Accuracy attesa**: 85-92% (dipende da seed e dataset)\n",
    "2. **Full fine-tuning**: tutti i 66M parametri sono stati aggiornati\n",
    "3. **Tempo**: ~15-20 minuti su CPU per 2 epoche\n",
    "4. **Overfitting**: con più epoche (>3) rischio overfitting su 2000 esempi"
   ]
  },
  {
   "cell_type": "markdown",
   "metadata": {},
   "source": [
    "---\n",
    "\n",
    "## 4️⃣ LoRA su GPT-2 (50 minuti)\n",
    "\n",
    "Ora applichiamo **LoRA** su GPT-2 per un task generativo (continuazione testo).\n",
    "\n",
    "### Vantaggi di LoRA:\n",
    "- **Parametri trainable ridotti**: da 117M a ~0.3M (99.7% riduzione)\n",
    "- **Memoria ridotta**: solo adapter salvati (~1MB vs ~450MB)\n",
    "- **Training più veloce**: meno parametri da aggiornare\n",
    "- **Modulare**: puoi avere adapter diversi per task diversi"
   ]
  },
  {
   "cell_type": "code",
   "execution_count": 17,
   "metadata": {},
   "outputs": [
    {
     "name": "stdout",
     "output_type": "stream",
     "text": [
      "⏳ Caricamento GPT-2...\n",
      "✅ GPT-2 caricato!\n",
      "   Parametri totali: 124.4M\n"
     ]
    }
   ],
   "source": [
    "# Carica GPT-2\n",
    "print(\"⏳ Caricamento GPT-2...\")\n",
    "\n",
    "tokenizer_gpt2 = AutoTokenizer.from_pretrained('gpt2')\n",
    "tokenizer_gpt2.pad_token = tokenizer_gpt2.eos_token\n",
    "\n",
    "model_gpt2_base = AutoModelForCausalLM.from_pretrained('gpt2')\n",
    "\n",
    "total_params = sum(p.numel() for p in model_gpt2_base.parameters())\n",
    "print(f\"✅ GPT-2 caricato!\")\n",
    "print(f\"   Parametri totali: {total_params / 1e6:.1f}M\")"
   ]
  },
  {
   "cell_type": "code",
   "execution_count": 18,
   "metadata": {},
   "outputs": [
    {
     "name": "stdout",
     "output_type": "stream",
     "text": [
      "✅ LoRA config:\n",
      "   Rank (r): 8\n",
      "   Alpha: 32\n",
      "   Target modules: {'c_attn'}\n"
     ]
    }
   ],
   "source": [
    "# Configura LoRA\n",
    "lora_config = LoraConfig(\n",
    "    task_type=TaskType.CAUSAL_LM,  # Task: causal language modeling\n",
    "    r=8,  # Rank: dimensione bottleneck (4-64 tipicamente)\n",
    "    lora_alpha=32,  # Scaling factor (tipicamente 2*r)\n",
    "    lora_dropout=0.1,  # Dropout per regolarizzazione\n",
    "    target_modules=['c_attn'],  # Moduli da adattare (attention in GPT-2)\n",
    "    bias='none'  # Non adattare bias\n",
    ")\n",
    "\n",
    "print(\"✅ LoRA config:\")\n",
    "print(f\"   Rank (r): {lora_config.r}\")\n",
    "print(f\"   Alpha: {lora_config.lora_alpha}\")\n",
    "print(f\"   Target modules: {lora_config.target_modules}\")"
   ]
  },
  {
   "cell_type": "code",
   "execution_count": 19,
   "metadata": {},
   "outputs": [
    {
     "name": "stdout",
     "output_type": "stream",
     "text": [
      "trainable params: 294,912 || all params: 124,734,720 || trainable%: 0.2364\n",
      "\n",
      "💡 Riduzione parametri: 124.4M → 0.29M (0.24%)\n"
     ]
    }
   ],
   "source": [
    "# Applica LoRA al modello\n",
    "model_gpt2_lora = get_peft_model(model_gpt2_base, lora_config)\n",
    "\n",
    "# Stampa info parametri\n",
    "model_gpt2_lora.print_trainable_parameters()\n",
    "\n",
    "trainable_params = sum(p.numel() for p in model_gpt2_lora.parameters() if p.requires_grad)\n",
    "print(f\"\\n💡 Riduzione parametri: {total_params / 1e6:.1f}M → {trainable_params / 1e6:.2f}M ({trainable_params/total_params*100:.2f}%)\")"
   ]
  },
  {
   "cell_type": "code",
   "execution_count": 20,
   "metadata": {},
   "outputs": [
    {
     "name": "stdout",
     "output_type": "stream",
     "text": [
      "⏳ Tokenizzazione per CLM...\n"
     ]
    },
    {
     "data": {
      "application/vnd.jupyter.widget-view+json": {
       "model_id": "2ed688d8fe9b4ac7b2d864d621e2a292",
       "version_major": 2,
       "version_minor": 0
      },
      "text/plain": [
       "Map:   0%|          | 0/500 [00:00<?, ? examples/s]"
      ]
     },
     "metadata": {},
     "output_type": "display_data"
    },
    {
     "data": {
      "application/vnd.jupyter.widget-view+json": {
       "model_id": "6bd15297677c4fb29cc3084e4201cfe1",
       "version_major": 2,
       "version_minor": 0
      },
      "text/plain": [
       "Map:   0%|          | 0/100 [00:00<?, ? examples/s]"
      ]
     },
     "metadata": {},
     "output_type": "display_data"
    },
    {
     "name": "stdout",
     "output_type": "stream",
     "text": [
      "✅ Tokenizzazione completata!\n"
     ]
    }
   ],
   "source": [
    "# Prepara dataset per causal LM\n",
    "# Usiamo le recensioni IMDB come testo da continuare\n",
    "\n",
    "def tokenize_for_clm(examples):\n",
    "    \"\"\"\n",
    "    Tokenizza per causal language modeling.\n",
    "    \n",
    "    Args:\n",
    "        examples: batch con campo 'text'\n",
    "    \n",
    "    Returns:\n",
    "        Dizionario con input_ids, attention_mask, labels\n",
    "    \"\"\"\n",
    "    # Tokenizza\n",
    "    tokenized = tokenizer_gpt2(\n",
    "        examples['text'],\n",
    "        padding='max_length',\n",
    "        truncation=True,\n",
    "        max_length=128,  # Più corto per velocità\n",
    "        return_tensors=None\n",
    "    )\n",
    "    \n",
    "    # Per CLM, labels = input_ids\n",
    "    tokenized['labels'] = tokenized['input_ids'].copy()\n",
    "    \n",
    "    return tokenized\n",
    "\n",
    "print(\"⏳ Tokenizzazione per CLM...\")\n",
    "\n",
    "# Usa subset più piccolo per velocità\n",
    "train_dataset_small = train_dataset.select(range(500))\n",
    "test_dataset_small = test_dataset.select(range(100))\n",
    "\n",
    "tokenized_train_clm = train_dataset_small.map(tokenize_for_clm, batched=True, remove_columns=['text', 'label'])\n",
    "tokenized_test_clm = test_dataset_small.map(tokenize_for_clm, batched=True, remove_columns=['text', 'label'])\n",
    "\n",
    "print(\"✅ Tokenizzazione completata!\")"
   ]
  },
  {
   "cell_type": "code",
   "execution_count": 22,
   "metadata": {},
   "outputs": [
    {
     "name": "stdout",
     "output_type": "stream",
     "text": [
      "✅ Training arguments configurati\n"
     ]
    }
   ],
   "source": [
    "# Training arguments per LoRA\n",
    "training_args_lora = TrainingArguments(\n",
    "    output_dir='./models_day2/gpt2_lora',\n",
    "    eval_strategy='epoch',\n",
    "    save_strategy='epoch',\n",
    "    learning_rate=1e-4,  # LR più alto per LoRA\n",
    "    per_device_train_batch_size=4,\n",
    "    per_device_eval_batch_size=4,\n",
    "    num_train_epochs=3,\n",
    "    weight_decay=0.01,\n",
    "    logging_steps=25,\n",
    "    load_best_model_at_end=True,\n",
    "    metric_for_best_model='loss',\n",
    "    seed=SEED,\n",
    "    report_to='none'\n",
    ")\n",
    "\n",
    "print(\"✅ Training arguments configurati\")"
   ]
  },
  {
   "cell_type": "code",
   "execution_count": 23,
   "metadata": {},
   "outputs": [
    {
     "name": "stdout",
     "output_type": "stream",
     "text": [
      "✅ Trainer LoRA inizializzato\n"
     ]
    }
   ],
   "source": [
    "# Trainer per LoRA\n",
    "trainer_lora = Trainer(\n",
    "    model=model_gpt2_lora,\n",
    "    args=training_args_lora,\n",
    "    train_dataset=tokenized_train_clm,\n",
    "    eval_dataset=tokenized_test_clm\n",
    ")\n",
    "\n",
    "print(\"✅ Trainer LoRA inizializzato\")"
   ]
  },
  {
   "cell_type": "code",
   "execution_count": 24,
   "metadata": {},
   "outputs": [
    {
     "name": "stdout",
     "output_type": "stream",
     "text": [
      "\n",
      "⏳ Training LoRA in corso... (~10-15 minuti su CPU)\n",
      "\n",
      "{'loss': 4.1341, 'grad_norm': 0.6845741271972656, 'learning_rate': 9.360000000000001e-05, 'epoch': 0.2}\n",
      "{'loss': 4.1485, 'grad_norm': 0.6877920031547546, 'learning_rate': 8.693333333333334e-05, 'epoch': 0.4}\n",
      "{'loss': 3.9723, 'grad_norm': 0.7321832180023193, 'learning_rate': 8.026666666666666e-05, 'epoch': 0.6}\n",
      "{'loss': 3.8363, 'grad_norm': 0.7339245080947876, 'learning_rate': 7.36e-05, 'epoch': 0.8}\n",
      "{'loss': 3.8547, 'grad_norm': 0.9442994594573975, 'learning_rate': 6.693333333333334e-05, 'epoch': 1.0}\n",
      "{'eval_loss': 3.5544018745422363, 'eval_runtime': 38.5821, 'eval_samples_per_second': 2.592, 'eval_steps_per_second': 0.648, 'epoch': 1.0}\n",
      "{'loss': 3.6769, 'grad_norm': 0.7513611316680908, 'learning_rate': 6.026666666666667e-05, 'epoch': 1.2}\n",
      "{'loss': 3.7893, 'grad_norm': 0.9228888154029846, 'learning_rate': 5.360000000000001e-05, 'epoch': 1.4}\n",
      "{'loss': 3.7176, 'grad_norm': 0.9733878970146179, 'learning_rate': 4.6933333333333333e-05, 'epoch': 1.6}\n",
      "{'loss': 3.7518, 'grad_norm': 0.795409619808197, 'learning_rate': 4.026666666666667e-05, 'epoch': 1.8}\n",
      "{'loss': 3.6287, 'grad_norm': 0.8822696208953857, 'learning_rate': 3.3600000000000004e-05, 'epoch': 2.0}\n",
      "{'eval_loss': 3.5251777172088623, 'eval_runtime': 32.7908, 'eval_samples_per_second': 3.05, 'eval_steps_per_second': 0.762, 'epoch': 2.0}\n",
      "{'loss': 3.7417, 'grad_norm': 0.8114709854125977, 'learning_rate': 2.6933333333333332e-05, 'epoch': 2.2}\n",
      "{'loss': 3.5509, 'grad_norm': 0.7564374208450317, 'learning_rate': 2.0266666666666667e-05, 'epoch': 2.4}\n",
      "{'loss': 3.6299, 'grad_norm': 0.9280773997306824, 'learning_rate': 1.3600000000000002e-05, 'epoch': 2.6}\n",
      "{'loss': 3.806, 'grad_norm': 0.7194424867630005, 'learning_rate': 6.933333333333334e-06, 'epoch': 2.8}\n",
      "{'loss': 3.6768, 'grad_norm': 1.0062029361724854, 'learning_rate': 2.6666666666666667e-07, 'epoch': 3.0}\n",
      "{'eval_loss': 3.519883394241333, 'eval_runtime': 32.6622, 'eval_samples_per_second': 3.062, 'eval_steps_per_second': 0.765, 'epoch': 3.0}\n",
      "{'train_runtime': 1356.1241, 'train_samples_per_second': 1.106, 'train_steps_per_second': 0.277, 'train_loss': 3.7943558146158853, 'epoch': 3.0}\n",
      "\n",
      "✅ Training LoRA completato in 22.6 minuti!\n"
     ]
    }
   ],
   "source": [
    "# Training LoRA (più veloce di full fine-tuning)\n",
    "print(\"\\n⏳ Training LoRA in corso... (~10-15 minuti su CPU)\\n\")\n",
    "\n",
    "start_time = time.time()\n",
    "train_result_lora = trainer_lora.train()\n",
    "end_time = time.time()\n",
    "\n",
    "training_time_lora = end_time - start_time\n",
    "\n",
    "print(f\"\\n✅ Training LoRA completato in {training_time_lora/60:.1f} minuti!\")"
   ]
  },
  {
   "cell_type": "code",
   "execution_count": 25,
   "metadata": {},
   "outputs": [
    {
     "name": "stdout",
     "output_type": "stream",
     "text": [
      "✅ Adapter LoRA salvato in ./models_day2/gpt2_lora_adapter\n",
      "   Dimensione adapter: 1.13 MB\n",
      "   💡 Confronto: modello completo GPT-2 ~500MB, adapter LoRA ~1.13MB\n"
     ]
    }
   ],
   "source": [
    "# Salva adapter LoRA\n",
    "model_gpt2_lora.save_pretrained('./models_day2/gpt2_lora_adapter')\n",
    "print(\"✅ Adapter LoRA salvato in ./models_day2/gpt2_lora_adapter\")\n",
    "\n",
    "# Verifica dimensione\n",
    "import os\n",
    "adapter_size = sum(os.path.getsize(f'./models_day2/gpt2_lora_adapter/{f}') for f in os.listdir('./models_day2/gpt2_lora_adapter') if os.path.isfile(f'./models_day2/gpt2_lora_adapter/{f}'))\n",
    "print(f\"   Dimensione adapter: {adapter_size / (1024**2):.2f} MB\")\n",
    "print(f\"   💡 Confronto: modello completo GPT-2 ~500MB, adapter LoRA ~{adapter_size / (1024**2):.2f}MB\")"
   ]
  },
  {
   "cell_type": "code",
   "execution_count": 26,
   "metadata": {},
   "outputs": [
    {
     "name": "stdout",
     "output_type": "stream",
     "text": [
      "\n",
      "📝 Test generazione con LoRA:\n",
      "\n",
      "Prompt: This movie is absolutely\n",
      "\n",
      "Output: This movie is absolutely amazing. I had been hoping to see a lot of it and this movie really does stand out. It's a comedy with an incredibly good story. The characters are all very likable and all very well-acted. It is an entertaining movie,\n"
     ]
    }
   ],
   "source": [
    "# Test generazione con LoRA\n",
    "test_prompt = \"This movie is absolutely\"\n",
    "\n",
    "print(f\"\\n📝 Test generazione con LoRA:\\n\")\n",
    "print(f\"Prompt: {test_prompt}\\n\")\n",
    "\n",
    "inputs = tokenizer_gpt2(test_prompt, return_tensors='pt')\n",
    "\n",
    "with torch.no_grad():\n",
    "    outputs = model_gpt2_lora.generate(\n",
    "        **inputs,\n",
    "        max_new_tokens=50,\n",
    "        do_sample=True,\n",
    "        temperature=0.7,\n",
    "        top_p=0.9,\n",
    "        pad_token_id=tokenizer_gpt2.eos_token_id\n",
    "    )\n",
    "\n",
    "generated_text = tokenizer_gpt2.decode(outputs[0], skip_special_tokens=True)\n",
    "print(f\"Output: {generated_text}\")"
   ]
  },
  {
   "cell_type": "markdown",
   "metadata": {},
   "source": [
    "### 💡 Osservazioni LoRA:\n",
    "\n",
    "1. **Parametri trainable**: ridotti del 99.7% (da 117M a ~0.3M)\n",
    "2. **Velocità**: training ~2-3x più veloce di full fine-tuning\n",
    "3. **Memoria**: adapter ~1-2MB vs ~500MB modello completo\n",
    "4. **Qualità**: performance simili a full fine-tuning per molti task\n",
    "5. **Modularità**: puoi caricare adapter diversi sullo stesso modello base"
   ]
  },
  {
   "cell_type": "markdown",
   "metadata": {},
   "source": [
    "---\n",
    "\n",
    "## 5️⃣ QLoRA su GPT-2 (50 minuti)\n",
    "\n",
    "**QLoRA** combina **quantizzazione** (int4/int8) + **LoRA** per ridurre ulteriormente la memoria.\n",
    "\n",
    "### Vantaggi:\n",
    "- **Memoria ridotta**: ~75% rispetto a LoRA standard\n",
    "- **Permette fine-tuning di modelli grandi**: es. LLaMA-65B su GPU 24GB\n",
    "- **Velocità**: leggermente più lenta per quantizzazione, ma gestibile\n",
    "\n",
    "### Libreria: bitsandbytes\n",
    "- Quantizzazione int4/int8 ottimizzata\n",
    "- Integrata con Hugging Face"
   ]
  },
  {
   "cell_type": "code",
   "execution_count": 27,
   "metadata": {},
   "outputs": [
    {
     "name": "stdout",
     "output_type": "stream",
     "text": [
      "⏳ Caricamento GPT-2 con quantizzazione int8...\n",
      "✅ Modello quantizzato caricato!\n"
     ]
    }
   ],
   "source": [
    "# Carica GPT-2 con quantizzazione int8\n",
    "from transformers import BitsAndBytesConfig\n",
    "\n",
    "# Config quantizzazione\n",
    "bnb_config = BitsAndBytesConfig(\n",
    "    load_in_8bit=True,  # Quantizzazione int8 (int4 richiede GPU)\n",
    "    bnb_8bit_compute_dtype=torch.float32  # Compute in FP32\n",
    ")\n",
    "\n",
    "print(\"⏳ Caricamento GPT-2 con quantizzazione int8...\")\n",
    "\n",
    "try:\n",
    "    model_gpt2_quantized = AutoModelForCausalLM.from_pretrained(\n",
    "        'gpt2',\n",
    "        quantization_config=bnb_config,\n",
    "        device_map='auto'  # Automatic device placement\n",
    "    )\n",
    "    print(\"✅ Modello quantizzato caricato!\")\n",
    "    quantization_available = True\n",
    "except Exception as e:\n",
    "    print(f\"⚠️ Quantizzazione non disponibile su CPU: {e}\")\n",
    "    print(\"   Carico modello standard per dimostrazione...\")\n",
    "    model_gpt2_quantized = AutoModelForCausalLM.from_pretrained('gpt2')\n",
    "    quantization_available = False"
   ]
  },
  {
   "cell_type": "code",
   "execution_count": 28,
   "metadata": {},
   "outputs": [
    {
     "name": "stdout",
     "output_type": "stream",
     "text": [
      "✅ Modello preparato per k-bit training\n"
     ]
    }
   ],
   "source": [
    "# Prepara modello per k-bit training (se quantizzato)\n",
    "if quantization_available:\n",
    "    model_gpt2_quantized = prepare_model_for_kbit_training(model_gpt2_quantized)\n",
    "    print(\"✅ Modello preparato per k-bit training\")\n",
    "else:\n",
    "    print(\"ℹ️ Usando modello standard (quantizzazione non disponibile)\")"
   ]
  },
  {
   "cell_type": "code",
   "execution_count": 29,
   "metadata": {},
   "outputs": [
    {
     "name": "stdout",
     "output_type": "stream",
     "text": [
      "✅ QLoRA applicato!\n",
      "trainable params: 294,912 || all params: 124,734,720 || trainable%: 0.2364\n"
     ]
    }
   ],
   "source": [
    "# Applica LoRA al modello quantizzato (QLoRA)\n",
    "qlora_config = LoraConfig(\n",
    "    task_type=TaskType.CAUSAL_LM,\n",
    "    r=8,\n",
    "    lora_alpha=32,\n",
    "    lora_dropout=0.1,\n",
    "    target_modules=['c_attn'],\n",
    "    bias='none'\n",
    ")\n",
    "\n",
    "model_gpt2_qlora = get_peft_model(model_gpt2_quantized, qlora_config)\n",
    "\n",
    "print(\"✅ QLoRA applicato!\")\n",
    "model_gpt2_qlora.print_trainable_parameters()"
   ]
  },
  {
   "cell_type": "code",
   "execution_count": 31,
   "metadata": {},
   "outputs": [
    {
     "name": "stdout",
     "output_type": "stream",
     "text": [
      "✅ Trainer QLoRA inizializzato\n"
     ]
    }
   ],
   "source": [
    "# Training QLoRA (stesso setup di LoRA)\n",
    "training_args_qlora = TrainingArguments(\n",
    "    output_dir='./models_day2/gpt2_qlora',\n",
    "    eval_strategy='epoch',\n",
    "    save_strategy='epoch',\n",
    "    learning_rate=1e-4,\n",
    "    per_device_train_batch_size=4,\n",
    "    per_device_eval_batch_size=4,\n",
    "    num_train_epochs=3,\n",
    "    weight_decay=0.01,\n",
    "    logging_steps=25,\n",
    "    load_best_model_at_end=True,\n",
    "    metric_for_best_model='loss',\n",
    "    seed=SEED,\n",
    "    report_to='none'\n",
    ")\n",
    "\n",
    "trainer_qlora = Trainer(\n",
    "    model=model_gpt2_qlora,\n",
    "    args=training_args_qlora,\n",
    "    train_dataset=tokenized_train_clm,\n",
    "    eval_dataset=tokenized_test_clm\n",
    ")\n",
    "\n",
    "print(\"✅ Trainer QLoRA inizializzato\")"
   ]
  },
  {
   "cell_type": "code",
   "execution_count": 32,
   "metadata": {},
   "outputs": [
    {
     "name": "stdout",
     "output_type": "stream",
     "text": [
      "\n",
      "⏳ Training QLoRA in corso... (~10-15 minuti)\n",
      "\n",
      "{'loss': 4.138, 'grad_norm': 0.6819418668746948, 'learning_rate': 9.360000000000001e-05, 'epoch': 0.2}\n",
      "{'loss': 4.1506, 'grad_norm': 0.7382024526596069, 'learning_rate': 8.693333333333334e-05, 'epoch': 0.4}\n",
      "{'loss': 3.9743, 'grad_norm': 0.7665440440177917, 'learning_rate': 8.026666666666666e-05, 'epoch': 0.6}\n",
      "{'loss': 3.8427, 'grad_norm': 0.779867947101593, 'learning_rate': 7.36e-05, 'epoch': 0.8}\n",
      "{'loss': 3.8591, 'grad_norm': 0.9533146023750305, 'learning_rate': 6.693333333333334e-05, 'epoch': 1.0}\n",
      "{'eval_loss': 3.5569794178009033, 'eval_runtime': 2220.4891, 'eval_samples_per_second': 0.045, 'eval_steps_per_second': 0.011, 'epoch': 1.0}\n",
      "{'loss': 3.6779, 'grad_norm': 0.7998232245445251, 'learning_rate': 6.026666666666667e-05, 'epoch': 1.2}\n",
      "{'loss': 3.7879, 'grad_norm': 1.0565282106399536, 'learning_rate': 5.360000000000001e-05, 'epoch': 1.4}\n",
      "{'loss': 3.7154, 'grad_norm': 0.963711678981781, 'learning_rate': 4.6933333333333333e-05, 'epoch': 1.6}\n",
      "{'loss': 3.7503, 'grad_norm': 0.8339182734489441, 'learning_rate': 4.026666666666667e-05, 'epoch': 1.8}\n",
      "{'loss': 3.6285, 'grad_norm': 0.8740963935852051, 'learning_rate': 3.3600000000000004e-05, 'epoch': 2.0}\n",
      "{'eval_loss': 3.526191473007202, 'eval_runtime': 2226.5292, 'eval_samples_per_second': 0.045, 'eval_steps_per_second': 0.011, 'epoch': 2.0}\n",
      "{'loss': 3.7401, 'grad_norm': 0.8629146814346313, 'learning_rate': 2.6933333333333332e-05, 'epoch': 2.2}\n",
      "{'loss': 3.5491, 'grad_norm': 0.8314816951751709, 'learning_rate': 2.0266666666666667e-05, 'epoch': 2.4}\n",
      "{'loss': 3.6284, 'grad_norm': 0.9878798127174377, 'learning_rate': 1.3600000000000002e-05, 'epoch': 2.6}\n",
      "{'loss': 3.8035, 'grad_norm': 0.7691548466682434, 'learning_rate': 6.933333333333334e-06, 'epoch': 2.8}\n",
      "{'loss': 3.6742, 'grad_norm': 1.0120131969451904, 'learning_rate': 2.6666666666666667e-07, 'epoch': 3.0}\n",
      "{'eval_loss': 3.520111083984375, 'eval_runtime': 2223.063, 'eval_samples_per_second': 0.045, 'eval_steps_per_second': 0.011, 'epoch': 3.0}\n"
     ]
    },
    {
     "name": "stderr",
     "output_type": "stream",
     "text": [
      "Some parameters are on the meta device because they were offloaded to the cpu.\n"
     ]
    },
    {
     "name": "stdout",
     "output_type": "stream",
     "text": [
      "{'train_runtime': 8647.464, 'train_samples_per_second': 0.173, 'train_steps_per_second': 0.043, 'train_loss': 3.7946671549479167, 'epoch': 3.0}\n",
      "\n",
      "✅ Training QLoRA completato in 144.1 minuti!\n"
     ]
    }
   ],
   "source": [
    "# Training QLoRA\n",
    "print(\"\\n⏳ Training QLoRA in corso... (~10-15 minuti)\\n\")\n",
    "\n",
    "start_time = time.time()\n",
    "train_result_qlora = trainer_qlora.train()\n",
    "end_time = time.time()\n",
    "\n",
    "training_time_qlora = end_time - start_time\n",
    "\n",
    "print(f\"\\n✅ Training QLoRA completato in {training_time_qlora/60:.1f} minuti!\")"
   ]
  },
  {
   "cell_type": "code",
   "execution_count": 33,
   "metadata": {},
   "outputs": [
    {
     "name": "stdout",
     "output_type": "stream",
     "text": [
      "✅ Adapter QLoRA salvato in ./models_day2/gpt2_qlora_adapter\n"
     ]
    }
   ],
   "source": [
    "# Salva adapter QLoRA\n",
    "model_gpt2_qlora.save_pretrained('./models_day2/gpt2_qlora_adapter')\n",
    "print(\"✅ Adapter QLoRA salvato in ./models_day2/gpt2_qlora_adapter\")"
   ]
  },
  {
   "cell_type": "code",
   "execution_count": 34,
   "metadata": {},
   "outputs": [
    {
     "name": "stdout",
     "output_type": "stream",
     "text": [
      "\n",
      "📝 Test generazione con QLoRA:\n",
      "\n",
      "Prompt: This movie is absolutely\n",
      "\n",
      "Output: This movie is absolutely amazing. I had been hoping to see a lot of it and this movie really does stand out. It's a comedy with an incredibly good story. The characters are all very likable and all very well-acted. It is an entertaining movie,\n"
     ]
    }
   ],
   "source": [
    "# Test generazione con QLoRA\n",
    "test_prompt = \"This movie is absolutely\"\n",
    "\n",
    "print(f\"\\n📝 Test generazione con QLoRA:\\n\")\n",
    "print(f\"Prompt: {test_prompt}\\n\")\n",
    "\n",
    "inputs = tokenizer_gpt2(test_prompt, return_tensors='pt')\n",
    "if quantization_available:\n",
    "    inputs = {k: v.to(model_gpt2_qlora.device) for k, v in inputs.items()}\n",
    "\n",
    "with torch.no_grad():\n",
    "    outputs = model_gpt2_qlora.generate(\n",
    "        **inputs,\n",
    "        max_new_tokens=50,\n",
    "        do_sample=True,\n",
    "        temperature=0.7,\n",
    "        top_p=0.9,\n",
    "        pad_token_id=tokenizer_gpt2.eos_token_id\n",
    "    )\n",
    "\n",
    "generated_text = tokenizer_gpt2.decode(outputs[0], skip_special_tokens=True)\n",
    "print(f\"Output: {generated_text}\")"
   ]
  },
  {
   "cell_type": "markdown",
   "metadata": {},
   "source": [
    "### 💡 Osservazioni QLoRA:\n",
    "\n",
    "1. **Memoria**: ridotta del ~75% rispetto a LoRA standard\n",
    "2. **Quantizzazione**: int8 su CPU, int4 richiede GPU\n",
    "3. **Performance**: leggermente inferiore a LoRA, ma accettabile\n",
    "4. **Use case**: essenziale per fine-tuning di modelli >10B parametri su hardware consumer\n",
    "\n",
    "### Quando usare QLoRA:\n",
    "- Modelli grandi (>7B parametri)\n",
    "- Hardware limitato (GPU <24GB, o CPU)\n",
    "- Deployment su edge devices\n",
    "- Quando serve ridurre costi cloud"
   ]
  },
  {
   "cell_type": "markdown",
   "metadata": {},
   "source": [
    "---\n",
    "\n",
    "## 6️⃣ Confronto base vs fine-tuned (30 minuti)\n",
    "\n",
    "Confrontiamo i modelli:\n",
    "1. GPT-2 base (no fine-tuning)\n",
    "2. GPT-2 + LoRA\n",
    "3. GPT-2 + QLoRA"
   ]
  },
  {
   "cell_type": "code",
   "execution_count": 35,
   "metadata": {},
   "outputs": [
    {
     "name": "stdout",
     "output_type": "stream",
     "text": [
      "📝 Confronto generazione:\n",
      "\n",
      "\n",
      "================================================================================\n",
      "Prompt: This movie is absolutely\n",
      "================================================================================\n",
      "\n",
      "Base: This movie is absolutely fantastic. I loved every second of it. I don't know if the movie was filmed on a high budget, but the movie is so great. The only downside is that there are some scenes where the camera is moving too fast and the camera is\n",
      "\n",
      "LoRA: This movie is absolutely fantastic. I was so excited to see it when I saw it, but the scenes were so much better. I have to say that the pacing was a bit off, and I was looking forward to seeing more action and gore. I also felt like\n",
      "\n",
      "QLoRA: This movie is absolutely amazing, and it is just incredible. It's a great movie that has a very strong ending and a very satisfying ending. I am not a huge fan of the ending and would never watch this movie again.\n",
      "\n",
      "\n",
      "================================================================================\n",
      "Prompt: The acting was\n",
      "================================================================================\n",
      "\n",
      "Base: The acting was well-received, with several productions in the U.S. and Europe. The film was released in September of 2001.\n",
      "\n",
      "LoRA: The acting was excellent. The acting was great. The humor was good and the comedy was funny. The acting was great. The acting was great. The humor was good and the comedy was funny. The acting was great. The acting was great. The humor was\n",
      "\n",
      "QLoRA: The acting was shot with a \"slim\" camera, but the performance was so good that the only other actors in the film were John Hurt and Robert Downey Jr. The movie's opening scene is a hilarious comedy that takes place in the fictional world of a\n",
      "\n",
      "\n",
      "================================================================================\n",
      "Prompt: I would recommend this film because\n",
      "================================================================================\n",
      "\n",
      "Base: I would recommend this film because of the characters and the music.\n",
      "\n",
      "LoRA: I would recommend this film because it is a really good example of how a great film can be made to make your mind up.\n",
      "\n",
      "QLoRA: I would recommend this film because it is a masterpiece. I was a little disappointed when I saw the trailer for it, but it was still a great film. The characters are pretty good and the pacing is great.\n",
      "\n"
     ]
    }
   ],
   "source": [
    "# Funzione per generare con modello\n",
    "def generate_comparison(model, tokenizer, prompt, max_new_tokens=50):\n",
    "    \"\"\"\n",
    "    Genera testo per confronto.\n",
    "    \"\"\"\n",
    "    inputs = tokenizer(prompt, return_tensors='pt')\n",
    "    \n",
    "    with torch.no_grad():\n",
    "        outputs = model.generate(\n",
    "            **inputs,\n",
    "            max_new_tokens=max_new_tokens,\n",
    "            do_sample=True,\n",
    "            temperature=0.7,\n",
    "            top_p=0.9,\n",
    "            pad_token_id=tokenizer.eos_token_id\n",
    "        )\n",
    "    \n",
    "    return tokenizer.decode(outputs[0], skip_special_tokens=True)\n",
    "\n",
    "# Prompt di test\n",
    "test_prompts = [\n",
    "    \"This movie is absolutely\",\n",
    "    \"The acting was\",\n",
    "    \"I would recommend this film because\"\n",
    "]\n",
    "\n",
    "print(\"📝 Confronto generazione:\\n\")\n",
    "\n",
    "for prompt in test_prompts:\n",
    "    print(f\"\\n{'='*80}\")\n",
    "    print(f\"Prompt: {prompt}\")\n",
    "    print(f\"{'='*80}\\n\")\n",
    "    \n",
    "    # Base\n",
    "    base_output = generate_comparison(model_gpt2_base, tokenizer_gpt2, prompt)\n",
    "    print(f\"Base: {base_output}\\n\")\n",
    "    \n",
    "    # LoRA\n",
    "    lora_output = generate_comparison(model_gpt2_lora, tokenizer_gpt2, prompt)\n",
    "    print(f\"LoRA: {lora_output}\\n\")\n",
    "    \n",
    "    # QLoRA\n",
    "    qlora_output = generate_comparison(model_gpt2_qlora, tokenizer_gpt2, prompt)\n",
    "    print(f\"QLoRA: {qlora_output}\\n\")"
   ]
  },
  {
   "cell_type": "code",
   "execution_count": 36,
   "metadata": {},
   "outputs": [
    {
     "name": "stdout",
     "output_type": "stream",
     "text": [
      "\n",
      "📊 Confronto Metodi di Fine-Tuning:\n",
      "\n",
      "                       Metodo Parametri Totali Parametri Trainable    Memoria Modello Dimensione Salvata Tempo Training\n",
      "Full Fine-Tuning (DistilBERT)              66M          66M (100%)             ~250MB             ~250MB       59.4 min\n",
      "                 LoRA (GPT-2)             117M        ~0.3M (0.3%)             ~500MB   ~1-2MB (adapter)       22.6 min\n",
      "                QLoRA (GPT-2)             117M        ~0.3M (0.3%) ~125MB (quantized)   ~1-2MB (adapter)      144.1 min\n",
      "\n",
      "✅ Tabella salvata in ./results_day2/finetuning_comparison.csv\n"
     ]
    }
   ],
   "source": [
    "# Confronto metriche training\n",
    "comparison_data = {\n",
    "    'Metodo': ['Full Fine-Tuning (DistilBERT)', 'LoRA (GPT-2)', 'QLoRA (GPT-2)'],\n",
    "    'Parametri Totali': ['66M', '117M', '117M'],\n",
    "    'Parametri Trainable': ['66M (100%)', '~0.3M (0.3%)', '~0.3M (0.3%)'],\n",
    "    'Memoria Modello': ['~250MB', '~500MB', '~125MB (quantized)'],\n",
    "    'Dimensione Salvata': ['~250MB', '~1-2MB (adapter)', '~1-2MB (adapter)'],\n",
    "    'Tempo Training': [f'{training_time/60:.1f} min', f'{training_time_lora/60:.1f} min', f'{training_time_qlora/60:.1f} min']\n",
    "}\n",
    "\n",
    "df_comparison = pd.DataFrame(comparison_data)\n",
    "\n",
    "print(\"\\n📊 Confronto Metodi di Fine-Tuning:\\n\")\n",
    "print(df_comparison.to_string(index=False))\n",
    "\n",
    "df_comparison.to_csv('./results_day2/finetuning_comparison.csv', index=False)\n",
    "print(\"\\n✅ Tabella salvata in ./results_day2/finetuning_comparison.csv\")"
   ]
  },
  {
   "cell_type": "markdown",
   "metadata": {},
   "source": [
    "### 💡 Conclusioni:\n",
    "\n",
    "**Full Fine-Tuning**:\n",
    "- ✅ Performance massime\n",
    "- ❌ Lento, costoso, richiede molta memoria\n",
    "- 🎯 Quando usare: dataset grandi (>10K esempi), task critici\n",
    "\n",
    "**LoRA**:\n",
    "- ✅ 99% riduzione parametri, veloce, modulare\n",
    "- ✅ Performance simili a full fine-tuning\n",
    "- 🎯 Quando usare: maggior parte dei casi, default choice\n",
    "\n",
    "**QLoRA**:\n",
    "- ✅ 75% riduzione memoria, permette modelli grandi su hardware limitato\n",
    "- ⚠️ Leggermente più lento, performance leggermente inferiori\n",
    "- 🎯 Quando usare: modelli >7B parametri, hardware limitato"
   ]
  },
  {
   "cell_type": "markdown",
   "metadata": {},
   "source": [
    "---\n",
    "\n",
    "## 🎯 Esercizi TODO\n",
    "\n",
    "### Esercizio 1: Hyperparameter sweep LoRA\n",
    "Testa rank diversi (r=4, 8, 16, 32) e confronta performance e velocità.\n",
    "\n",
    "### Esercizio 2: Target modules\n",
    "Prova a modificare `target_modules` in LoRA (es. ['c_attn', 'c_proj']) e osserva differenze.\n",
    "\n",
    "### Esercizio 3: Full fine-tuning GPT-2\n",
    "Fai full fine-tuning di GPT-2 (senza LoRA) e confronta con LoRA.\n",
    "\n",
    "### Esercizio 4: Multi-adapter\n",
    "Crea due adapter LoRA diversi (uno per sentiment positivo, uno per negativo) e confronta output."
   ]
  },
  {
   "cell_type": "code",
   "execution_count": null,
   "metadata": {},
   "outputs": [],
   "source": [
    "# TODO: Esercizio 1 - Hyperparameter sweep LoRA\n",
    "# Scrivi qui il tuo codice"
   ]
  },
  {
   "cell_type": "code",
   "execution_count": null,
   "metadata": {},
   "outputs": [],
   "source": [
    "# TODO: Esercizio 2 - Target modules\n",
    "# Scrivi qui il tuo codice"
   ]
  },
  {
   "cell_type": "code",
   "execution_count": null,
   "metadata": {},
   "outputs": [],
   "source": [
    "# TODO: Esercizio 3 - Full fine-tuning GPT-2\n",
    "# Scrivi qui il tuo codice"
   ]
  },
  {
   "cell_type": "code",
   "execution_count": null,
   "metadata": {},
   "outputs": [],
   "source": [
    "# TODO: Esercizio 4 - Multi-adapter\n",
    "# Scrivi qui il tuo codice"
   ]
  },
  {
   "cell_type": "markdown",
   "metadata": {},
   "source": [
    "---\n",
    "\n",
    "## ✅ Soluzioni degli esercizi"
   ]
  },
  {
   "cell_type": "code",
   "execution_count": null,
   "metadata": {},
   "outputs": [],
   "source": [
    "# SOLUZIONE Esercizio 2: Target modules\n",
    "\n",
    "# Prova con più target modules\n",
    "lora_config_extended = LoraConfig(\n",
    "    task_type=TaskType.CAUSAL_LM,\n",
    "    r=8,\n",
    "    lora_alpha=32,\n",
    "    lora_dropout=0.1,\n",
    "    target_modules=['c_attn', 'c_proj'],  # Aggiungi c_proj\n",
    "    bias='none'\n",
    ")\n",
    "\n",
    "model_test = AutoModelForCausalLM.from_pretrained('gpt2')\n",
    "model_test_lora = get_peft_model(model_test, lora_config_extended)\n",
    "\n",
    "print(\"\\n📊 Confronto target modules:\\n\")\n",
    "print(\"Solo c_attn:\")\n",
    "model_gpt2_lora.print_trainable_parameters()\n",
    "\n",
    "print(\"\\nc_attn + c_proj:\")\n",
    "model_test_lora.print_trainable_parameters()\n",
    "\n",
    "print(\"\\n💡 Più target modules = più parametri trainable = potenzialmente migliori performance ma più lento\")"
   ]
  },
  {
   "cell_type": "markdown",
   "metadata": {},
   "source": [
    "---\n",
    "\n",
    "## 🎓 Conclusione Day 2\n",
    "\n",
    "Oggi abbiamo:\n",
    "1. ✅ Compreso **SFT** e differenze da pre-training\n",
    "2. ✅ Preparato dataset **IMDB** per sentiment analysis\n",
    "3. ✅ Fatto **full fine-tuning** di DistilBERT (66M parametri)\n",
    "4. ✅ Implementato **LoRA** su GPT-2 (riduzione 99.7% parametri)\n",
    "5. ✅ Implementato **QLoRA** con quantizzazione int8\n",
    "6. ✅ Confrontato **base vs fine-tuned** su prompt identici\n",
    "\n",
    "**Prossimi passi (Day 3)**:\n",
    "- RLHF (Reinforcement Learning from Human Feedback)\n",
    "- PPO (Proximal Policy Optimization)\n",
    "- DPO (Direct Preference Optimization)\n",
    "- Libreria trl di Hugging Face\n",
    "\n",
    "---\n",
    "\n",
    "## 📁 File generati\n",
    "\n",
    "```\n",
    "./results_day2/\n",
    "├── class_distribution.png\n",
    "├── confusion_matrix_distilbert.png\n",
    "├── finetuning_comparison.csv\n",
    "└── logs/\n",
    "\n",
    "./models_day2/\n",
    "├── distilbert_sft_final/\n",
    "├── gpt2_lora_adapter/\n",
    "└── gpt2_qlora_adapter/\n",
    "```"
   ]
  }
 ],
 "metadata": {
  "kernelspec": {
   "display_name": "Python 3 (ipykernel)",
   "language": "python",
   "name": "python3"
  },
  "language_info": {
   "codemirror_mode": {
    "name": "ipython",
    "version": 3
   },
   "file_extension": ".py",
   "mimetype": "text/x-python",
   "name": "python",
   "nbconvert_exporter": "python",
   "pygments_lexer": "ipython3",
   "version": "3.11.9"
  }
 },
 "nbformat": 4,
 "nbformat_minor": 4
}
