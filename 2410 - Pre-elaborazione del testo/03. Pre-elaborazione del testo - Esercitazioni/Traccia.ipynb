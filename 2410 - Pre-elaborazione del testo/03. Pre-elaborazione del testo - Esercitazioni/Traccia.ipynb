{
 "cells": [
  {
   "cell_type": "markdown",
   "id": "2621c34f-ae54-4cfd-8a32-8728762f1e34",
   "metadata": {},
   "source": [
    "# 🧠 Mini Challenge: *\"Dal testo al significato\"*\n",
    "\n",
    "## 🎯 Obiettivo\n",
    "\n",
    "Metti in pratica l’intero flusso di **pre-elaborazione del testo**, applicando in modo consapevole le diverse tecniche di pulizia e trasformazione linguistica.\n",
    "\n",
    "L’obiettivo della challenge è **valutare e scegliere le strategie di pre-elaborazione più efficaci in base al contesto del testo** e, al termine, **individuare le 3 parole che meglio ne rappresentano il significato principale.**\n",
    "\n",
    "💡 *Ricorda:* non si tratta solo di “ripulire” il testo, ma di **preservare le informazioni davvero rilevanti** e di **adattare gli strumenti al tipo di contenuto.**\n",
    "\n",
    "---\n",
    "\n",
    "### 🔧 Step di lavoro\n",
    "\n",
    "Durante l’attività dovrai decidere come applicare (e motivare) ogni passaggio:\n",
    "\n",
    "1. **Normalizzazione** — scegli quali interventi sono appropriati: rimozione di spazi extra, emoji, URL, punteggiatura, numeri, simboli o abbreviazioni.  \n",
    "2. **Tokenizzazione** — suddividi il testo in unità significative (parole).  \n",
    "3. **Rimozione delle stop words** — valuta quali termini comuni eliminare e quali mantenere in base al contesto.  \n",
    "4. **Stemming o Lemmatizzazione** — decidi quale metodo è più adatto per ridurre le parole alla loro forma base senza perdere significato.\n",
    "\n",
    "#### ATTENZIONE! Ricorda di importare tutte le librerie che intendi utilizzare durante il processo \n",
    "\n",
    "---\n",
    "\n",
    "\n",
    "## 🧩 Testi di partenza\n",
    " \n",
    "\n",
    "---\n",
    "\n",
    "### 🗨️ **Testo 1 — Commento Social**\n",
    "> “OMG 😱 non ci credo, la nuova stagione di Stranger Things è PAZZESCA!!! 🔥🔥 Gli attori sempre top, ma la trama stavolta è assurda lol 😂 #Netflix #strangerthings”\n",
    "\n",
    "---\n",
    "\n",
    "### 🎬 **Testo 2 — Recensione di Film**\n",
    "> “La fotografia è meravigliosa e la colonna sonora accompagna perfettamente la storia, ma il ritmo narrativo risulta lento e prevedibile.”\n",
    "\n",
    "---\n",
    "\n",
    "### 📰 **Testo 3 — Articolo di Notizia**\n",
    "> “Il governo ha annunciato oggi un nuovo piano di incentivi per sostenere le piccole e medie imprese nel settore tecnologico.”\n",
    "\n",
    "---\n",
    "\n",
    "### 💻 **Testo 4 — Frammento Tecnico / Forum**\n",
    "> “Ho installato la versione 3.2.1 di TensorFlow, ma ottengo ancora l’errore ‘module not found’. Qualcuno sa come risolvere?”\n"
   ]
  }
 ],
 "metadata": {
  "kernelspec": {
   "display_name": "Python 3 (ipykernel)",
   "language": "python",
   "name": "python3"
  },
  "language_info": {
   "codemirror_mode": {
    "name": "ipython",
    "version": 3
   },
   "file_extension": ".py",
   "mimetype": "text/x-python",
   "name": "python",
   "nbconvert_exporter": "python",
   "pygments_lexer": "ipython3",
   "version": "3.11.9"
  }
 },
 "nbformat": 4,
 "nbformat_minor": 5
}
