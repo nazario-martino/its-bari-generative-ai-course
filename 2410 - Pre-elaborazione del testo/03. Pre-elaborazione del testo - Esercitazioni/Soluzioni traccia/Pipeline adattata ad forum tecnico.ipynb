{
 "cells": [
  {
   "cell_type": "markdown",
   "id": "6e4d6d9d-ba1f-4631-84a4-dd92fe1fbb4b",
   "metadata": {},
   "source": [
    "# Importazione librerie"
   ]
  },
  {
   "cell_type": "code",
   "execution_count": 2,
   "id": "f3d8e987-eaca-4e6b-9a9a-a8d44082fdc6",
   "metadata": {},
   "outputs": [
    {
     "name": "stdout",
     "output_type": "stream",
     "text": [
      "Importazione librerie completata\n"
     ]
    }
   ],
   "source": [
    "import re\n",
    "import spacy\n",
    "from nltk.corpus import stopwords\n",
    "print(\"Importazione librerie completata\")"
   ]
  },
  {
   "cell_type": "markdown",
   "id": "75cd0413-77fd-4553-832a-47cd0b26fb3d",
   "metadata": {},
   "source": [
    "# Pipeline forum tecnico"
   ]
  },
  {
   "cell_type": "code",
   "execution_count": 3,
   "id": "06b29ad1-a59d-4e41-ba7c-cb02d68d703e",
   "metadata": {},
   "outputs": [],
   "source": [
    "class PipelineTecnica:\n",
    "    def __init__(self, lingua='italian'):\n",
    "        \"\"\"Pipeline NLP per testi tecnici o forum\"\"\"\n",
    "        self.lingua = lingua\n",
    "        self.nlp = spacy.load('it_core_news_sm' if lingua == 'italian' else 'en_core_web_sm')\n",
    "\n",
    "        # Stop words base di NLTK + rimozione di parole importanti per contesto tecnico\n",
    "        stop_base = set(stopwords.words(lingua))\n",
    "        # Rimuovo parole che potrebbero essere utili in contesti tecnici\n",
    "        self.stop_custom = stop_base - {'errore', 'problema', 'installato', 'installare', 'modulo', 'libreria'}\n",
    "\n",
    "    def normalizza_testo(self, testo):\n",
    "        \"\"\"Normalizzazione: conserva versioni, librerie, apostrofi e termini tecnici\"\"\"\n",
    "        testo = testo.lower()\n",
    "\n",
    "        # Mantieni pattern tipo 3.2.1, nomi di pacchetti, ma rimuovi punteggiatura non utile\n",
    "        testo = re.sub(r'(?<!\\d)[^\\w\\.\\-\\']+(?!\\d)', ' ', testo)\n",
    "\n",
    "        # Rimuovi doppi spazi\n",
    "        testo = re.sub(r'\\s+', ' ', testo).strip()\n",
    "        return testo\n",
    "\n",
    "    def tokenizza(self, testo):\n",
    "        \"\"\"Tokenizza senza lemmatizzare (preserva i termini tecnici)\"\"\"\n",
    "        doc = self.nlp(testo)\n",
    "        tokens = []\n",
    "        for token in doc:\n",
    "            if not token.is_space and not token.is_punct:\n",
    "                tokens.append(token.text)\n",
    "        return tokens\n",
    "\n",
    "    def rimuovi_stop_words(self, tokens):\n",
    "        \"\"\"Rimuove solo stopwords non tecniche\"\"\"\n",
    "        return [t for t in tokens if t not in self.stop_custom]\n",
    "\n",
    "    def processa_testo(self, testo):\n",
    "        \"\"\"Pipeline completa\"\"\"\n",
    "        testo_norm = self.normalizza_testo(testo)\n",
    "        tokens = self.tokenizza(testo_norm)\n",
    "        tokens_filtrati = self.rimuovi_stop_words(tokens)\n",
    "        return tokens_filtrati\n"
   ]
  },
  {
   "cell_type": "markdown",
   "id": "4e24bdd0-71e0-47dc-b7b1-e7f2ec749620",
   "metadata": {},
   "source": [
    "# Test"
   ]
  },
  {
   "cell_type": "code",
   "execution_count": 4,
   "id": "448cd279-0199-4bd1-8255-417361b2c59c",
   "metadata": {},
   "outputs": [
    {
     "name": "stdout",
     "output_type": "stream",
     "text": [
      "💻 Tokens finali: ['installato', 'versione', '3.2.1', 'tensorflow', 'ottengo', 'ancora', 'errore', 'module', 'not', 'found', 'qualcuno', 'sa', 'risolvere']\n"
     ]
    }
   ],
   "source": [
    "# Test 4 — Frammento tecnico / forum\n",
    "testo4 = \"Ho installato la versione 3.2.1 di TensorFlow, ma ottengo ancora l’errore ‘module not found’. Qualcuno sa come risolvere?\"\n",
    "\n",
    "pipeline_tech = PipelineTecnica()\n",
    "risultato4 = pipeline_tech.processa_testo(testo4)\n",
    "\n",
    "print(\"💻 Tokens finali:\", risultato4)"
   ]
  },
  {
   "cell_type": "markdown",
   "id": "565b5099-6afb-4a47-b111-b254db75e7ad",
   "metadata": {},
   "source": [
    "# Approccio utilizzato\n",
    "Nel caso di testi tecnici o frammenti da forum, l’obiettivo è preservare termini specifici e tecnicismi, evitando che la pulizia del testo elimini informazioni cruciali come nomi di librerie, versioni, messaggi di errore o comandi.\n",
    "\n",
    "La pipeline quindi:\n",
    "- mantiene numeri e versioni (es. 3.2.1),\n",
    "- conserva parole con apostrofi o punti interni (come nomi di pacchetti Python),\n",
    "- non esegue lemmatizzazione (per evitare distorsioni semantiche sui termini tecnici),\n",
    "- usa stopwords ridotte (personalizzate per non eliminare parole utili come errore, installato, modulo)."
   ]
  }
 ],
 "metadata": {
  "kernelspec": {
   "display_name": "Python (.venv)",
   "language": "python",
   "name": ".venv"
  },
  "language_info": {
   "codemirror_mode": {
    "name": "ipython",
    "version": 3
   },
   "file_extension": ".py",
   "mimetype": "text/x-python",
   "name": "python",
   "nbconvert_exporter": "python",
   "pygments_lexer": "ipython3",
   "version": "3.11.9"
  }
 },
 "nbformat": 4,
 "nbformat_minor": 5
}
