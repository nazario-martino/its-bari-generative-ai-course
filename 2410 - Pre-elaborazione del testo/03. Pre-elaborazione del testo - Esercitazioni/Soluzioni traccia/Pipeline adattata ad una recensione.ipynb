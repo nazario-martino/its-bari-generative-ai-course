{
 "cells": [
  {
   "cell_type": "markdown",
   "id": "6e4d6d9d-ba1f-4631-84a4-dd92fe1fbb4b",
   "metadata": {},
   "source": [
    "# Importazione librerie"
   ]
  },
  {
   "cell_type": "code",
   "execution_count": 3,
   "id": "f3d8e987-eaca-4e6b-9a9a-a8d44082fdc6",
   "metadata": {},
   "outputs": [
    {
     "name": "stdout",
     "output_type": "stream",
     "text": [
      "Importazione librerie completata\n"
     ]
    }
   ],
   "source": [
    "import re\n",
    "import spacy\n",
    "from nltk.corpus import stopwords\n",
    "from nltk.stem import SnowballStemmer\n",
    "print(\"Importazione librerie completata\")"
   ]
  },
  {
   "cell_type": "markdown",
   "id": "75cd0413-77fd-4553-832a-47cd0b26fb3d",
   "metadata": {},
   "source": [
    "# Pipeline recensione"
   ]
  },
  {
   "cell_type": "code",
   "execution_count": 4,
   "id": "06b29ad1-a59d-4e41-ba7c-cb02d68d703e",
   "metadata": {},
   "outputs": [],
   "source": [
    "class PipelineRecensioneFilm:\n",
    "    def __init__(self, lingua='italian'):\n",
    "        \"\"\"Pipeline NLP per testi di recensioni cinematografiche\"\"\"\n",
    "        self.lingua = lingua\n",
    "        self.nlp = spacy.load('it_core_news_sm' if lingua == 'italian' else 'en_core_web_sm')\n",
    "        self.stemmer = SnowballStemmer(lingua)\n",
    "        self.stop_words = set(stopwords.words(lingua))\n",
    "        \n",
    "    def normalizza_testo(self, testo):\n",
    "        \"\"\"Normalizzazione base: minuscole e rimozione punteggiatura\"\"\"\n",
    "        testo = testo.lower()\n",
    "        testo = re.sub(r'[^\\w\\sàèéìòù]', ' ', testo)  # Rimuovi punteggiatura\n",
    "        testo = re.sub(r'\\s+', ' ', testo).strip()\n",
    "        return testo\n",
    "    \n",
    "    def tokenizza_e_lemmatizza(self, testo):\n",
    "        \"\"\"Tokenizza e lemmatizza mantenendo solo parole significative\"\"\"\n",
    "        doc = self.nlp(testo)\n",
    "        tokens = []\n",
    "        for token in doc:\n",
    "            # escludi punteggiatura, spazi, parole brevi o non alfabetiche\n",
    "            if not token.is_punct and not token.is_space and token.is_alpha:\n",
    "                # prendi lemma (non -PRON-)\n",
    "                lemma = token.lemma_ if token.lemma_ != '-PRON-' else token.text\n",
    "                tokens.append(lemma)\n",
    "        return tokens\n",
    "    \n",
    "    def rimuovi_stop_words(self, tokens):\n",
    "        \"\"\"Rimuove stop words mantenendo parole chiave semantiche\"\"\"\n",
    "        return [t for t in tokens if t not in self.stop_words]\n",
    "    \n",
    "    def filtra_per_pos(self, testo):\n",
    "        \"\"\"Estrae solo nomi e aggettivi per analisi semantica\"\"\"\n",
    "        doc = self.nlp(testo)\n",
    "        return [token.lemma_ for token in doc if token.pos_ in ['NOUN', 'ADJ']]\n",
    "    \n",
    "    def processa_testo(self, testo, filtra_pos=True):\n",
    "        \"\"\"Pipeline completa\"\"\"\n",
    "        testo_norm = self.normalizza_testo(testo)\n",
    "        tokens = self.tokenizza_e_lemmatizza(testo_norm)\n",
    "        tokens = self.rimuovi_stop_words(tokens)\n",
    "        if filtra_pos:\n",
    "            # Mantiene solo sostantivi e aggettivi (per analisi semantica/sentiment)\n",
    "            tokens = [t for t in tokens if t in self.filtra_per_pos(testo_norm)]\n",
    "        return tokens\n"
   ]
  },
  {
   "cell_type": "markdown",
   "id": "4e24bdd0-71e0-47dc-b7b1-e7f2ec749620",
   "metadata": {},
   "source": [
    "# Test"
   ]
  },
  {
   "cell_type": "code",
   "execution_count": 5,
   "id": "448cd279-0199-4bd1-8255-417361b2c59c",
   "metadata": {},
   "outputs": [
    {
     "name": "stdout",
     "output_type": "stream",
     "text": [
      "🎬 Tokens finali: ['fotografia', 'meraviglioso', 'colonna', 'sonoro', 'storia', 'ritmo', 'narrativo', 'lento', 'prevedibile']\n"
     ]
    }
   ],
   "source": [
    "# Test 2 — Recensione di Film\n",
    "testo2 = \"La fotografia è meravigliosa e la colonna sonora accompagna perfettamente la storia, ma il ritmo narrativo risulta lento e prevedibile.\"\n",
    "\n",
    "pipeline_film = PipelineRecensioneFilm()\n",
    "risultato2 = pipeline_film.processa_testo(testo2)\n",
    "\n",
    "print(\"🎬 Tokens finali:\", risultato2)"
   ]
  },
  {
   "cell_type": "markdown",
   "id": "565b5099-6afb-4a47-b111-b254db75e7ad",
   "metadata": {
    "jp-MarkdownHeadingCollapsed": true
   },
   "source": [
    "# Approccio utilizzato\n",
    "- Niente dizionario di slang o emoji.\n",
    "- Focus su lemmi, aggettivi e nomi (utile per analisi semantica/sentiment).\n",
    "- Pulisci il testo in modo semplice (solo minuscole e punteggiatura)."
   ]
  }
 ],
 "metadata": {
  "kernelspec": {
   "display_name": "Python (.venv)",
   "language": "python",
   "name": ".venv"
  },
  "language_info": {
   "codemirror_mode": {
    "name": "ipython",
    "version": 3
   },
   "file_extension": ".py",
   "mimetype": "text/x-python",
   "name": "python",
   "nbconvert_exporter": "python",
   "pygments_lexer": "ipython3",
   "version": "3.11.9"
  }
 },
 "nbformat": 4,
 "nbformat_minor": 5
}
